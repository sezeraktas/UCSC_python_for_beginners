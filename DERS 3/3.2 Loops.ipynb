{
 "cells": [
  {
   "cell_type": "markdown",
   "metadata": {},
   "source": [
    "# Loops"
   ]
  },
  {
   "cell_type": "markdown",
   "metadata": {},
   "source": [
    "## for-loop"
   ]
  },
  {
   "cell_type": "code",
   "execution_count": 11,
   "metadata": {},
   "outputs": [
    {
     "name": "stdout",
     "output_type": "stream",
     "text": [
      "P y t h o n   i s   f u n ! "
     ]
    }
   ],
   "source": [
    "letter = 4\n",
    "word = \"Python is fun!\"\n",
    "for letter in word:\n",
    "    print(letter, end = \" \")"
   ]
  },
  {
   "cell_type": "code",
   "execution_count": 2,
   "metadata": {},
   "outputs": [
    {
     "name": "stdout",
     "output_type": "stream",
     "text": [
      "Sunday\n",
      "Monday\n",
      "Tuesday\n",
      "Wednesday\n",
      "Thursday\n",
      "Friday\n",
      "Saturday\n"
     ]
    }
   ],
   "source": [
    "daysOfWeek = [\"Sunday\", \"Monday\", \"Tuesday\", \"Wednesday\", \"Thursday\",\n",
    "              \"Friday\", \"Saturday\"]\n",
    "\n",
    "for day in daysOfWeek:\n",
    "    print(day)"
   ]
  },
  {
   "cell_type": "markdown",
   "metadata": {},
   "source": [
    "## Loops using range()"
   ]
  },
  {
   "cell_type": "code",
   "execution_count": 3,
   "metadata": {},
   "outputs": [
    {
     "name": "stdout",
     "output_type": "stream",
     "text": [
      "range(2, 9, 3)\n"
     ]
    }
   ],
   "source": [
    "c = range(2, 9, 3)\n",
    "print(c)"
   ]
  },
  {
   "cell_type": "code",
   "execution_count": 4,
   "metadata": {},
   "outputs": [
    {
     "name": "stdout",
     "output_type": "stream",
     "text": [
      "range(-3, 3)\n"
     ]
    }
   ],
   "source": [
    "b = range(-3,3)\n",
    "print(b)"
   ]
  },
  {
   "cell_type": "code",
   "execution_count": 5,
   "metadata": {},
   "outputs": [
    {
     "name": "stdout",
     "output_type": "stream",
     "text": [
      "range(0, 4)\n"
     ]
    }
   ],
   "source": [
    "a = range(4)\n",
    "print(a)"
   ]
  },
  {
   "cell_type": "code",
   "execution_count": 6,
   "metadata": {},
   "outputs": [
    {
     "name": "stdout",
     "output_type": "stream",
     "text": [
      "0 and counting ...\n",
      "1 and counting ...\n",
      "2 and counting ...\n",
      "3 and counting ...\n"
     ]
    }
   ],
   "source": [
    "for number in range(4):\n",
    "    print(number, \"and counting ...\")"
   ]
  },
  {
   "cell_type": "code",
   "execution_count": 7,
   "metadata": {},
   "outputs": [
    {
     "name": "stdout",
     "output_type": "stream",
     "text": [
      "3 7 11 15 19 23 27 "
     ]
    }
   ],
   "source": [
    "for number in range(3,28,4):\n",
    "    print(number, end = ' ')"
   ]
  },
  {
   "cell_type": "code",
   "execution_count": 12,
   "metadata": {},
   "outputs": [
    {
     "name": "stdout",
     "output_type": "stream",
     "text": [
      "4\n",
      "3\n",
      "2\n",
      "1\n"
     ]
    }
   ],
   "source": [
    "for number in range(4, 0, -1):\n",
    "    print(number)"
   ]
  },
  {
   "cell_type": "code",
   "execution_count": 16,
   "metadata": {},
   "outputs": [
    {
     "name": "stdout",
     "output_type": "stream",
     "text": [
      "0\n",
      "3\n",
      "6\n",
      "9\n",
      "12\n",
      "15\n",
      "18\n"
     ]
    }
   ],
   "source": [
    "for number in range (0, 21, 3):\n",
    "    print(number) # counting by threes"
   ]
  },
  {
   "cell_type": "code",
   "execution_count": 14,
   "metadata": {},
   "outputs": [
    {
     "name": "stdout",
     "output_type": "stream",
     "text": [
      "21\n",
      "18\n",
      "15\n",
      "12\n",
      "9\n",
      "6\n",
      "3\n"
     ]
    }
   ],
   "source": [
    "for number in range (21, 0, -3):\n",
    "    print(number) # counting backwards by threes"
   ]
  },
  {
   "cell_type": "markdown",
   "metadata": {},
   "source": [
    "## while-loop"
   ]
  },
  {
   "cell_type": "code",
   "execution_count": 17,
   "metadata": {},
   "outputs": [
    {
     "name": "stdout",
     "output_type": "stream",
     "text": [
      "Value of x is: 0\n",
      "Value of x is: 1\n",
      "Value of x is: 2\n",
      "Value of x is: 3\n",
      "Value of x is: 4\n",
      "Value of x is: 5\n",
      "Value of x is: 6\n",
      "Value of x is: 7\n",
      "Value of x is: 8\n",
      "Value of x is: 9\n"
     ]
    }
   ],
   "source": [
    "def doTask(param):\n",
    "    print(\"Value of x is:\", param)\n",
    "\n",
    "\n",
    "x = 0\n",
    "while (x < 10):\n",
    "    doTask(x)\n",
    "    x += 1  # x = x + 1\n"
   ]
  },
  {
   "cell_type": "code",
   "execution_count": 18,
   "metadata": {},
   "outputs": [
    {
     "name": "stdout",
     "output_type": "stream",
     "text": [
      "4\n",
      "5\n",
      "6\n",
      "7\n",
      "8\n",
      "9\n"
     ]
    }
   ],
   "source": [
    "x = 4\n",
    "while (x < 10):\n",
    "    print(x)\n",
    "    x = x + 1;"
   ]
  },
  {
   "cell_type": "code",
   "execution_count": 19,
   "metadata": {},
   "outputs": [
    {
     "name": "stdout",
     "output_type": "stream",
     "text": [
      "15\n",
      "14\n",
      "13\n",
      "12\n",
      "11\n",
      "10\n"
     ]
    }
   ],
   "source": [
    "x = 15\n",
    "while (x >= 10):\n",
    "    print(x)\n",
    "    x = x - 1; # x -= 1"
   ]
  },
  {
   "cell_type": "code",
   "execution_count": 20,
   "metadata": {},
   "outputs": [],
   "source": [
    "x = 15\n",
    "while (x < 10):\n",
    "    print(x)\n",
    "    x = x - 1;"
   ]
  },
  {
   "cell_type": "markdown",
   "metadata": {},
   "source": [
    "# break"
   ]
  },
  {
   "cell_type": "markdown",
   "metadata": {},
   "source": [
    "Searching for instances of a search key in a string:"
   ]
  },
  {
   "cell_type": "code",
   "execution_count": 21,
   "metadata": {},
   "outputs": [
    {
     "name": "stdout",
     "output_type": "stream",
     "text": [
      "Please enter a string: Python is really fun!\n",
      "Enter a letter: l\n",
      "Found l\n",
      "Found l\n"
     ]
    }
   ],
   "source": [
    "inputString = input(\"Please enter a string: \")\n",
    "key = input(\"Enter a letter: \")\n",
    "\n",
    "for letter in inputString:\n",
    "    if (letter == key):\n",
    "        print(\"Found\", letter)\n",
    "        \n",
    "        "
   ]
  },
  {
   "cell_type": "markdown",
   "metadata": {},
   "source": [
    "Finding positions of instances of a search key in a string:"
   ]
  },
  {
   "cell_type": "code",
   "execution_count": 22,
   "metadata": {},
   "outputs": [
    {
     "name": "stdout",
     "output_type": "stream",
     "text": [
      "Please enter a string: Python is really fun!\n",
      "Enter a letter: l\n",
      "Found l at position 13\n",
      "Found l at position 14\n"
     ]
    }
   ],
   "source": [
    "inputString = input(\"Please enter a string: \")\n",
    "key = input(\"Enter a letter: \")\n",
    "\n",
    "position = 0\n",
    "\n",
    "for letter in inputString:\n",
    "    if (letter == key):\n",
    "        print(\"Found\", letter, \"at position\", position)\n",
    "        \n",
    "    position += 1\n",
    "        "
   ]
  },
  {
   "cell_type": "markdown",
   "metadata": {},
   "source": [
    "Searching for the first occurance of a search key in a string:"
   ]
  },
  {
   "cell_type": "code",
   "execution_count": 24,
   "metadata": {},
   "outputs": [
    {
     "name": "stdout",
     "output_type": "stream",
     "text": [
      "Please enter a string: Python\n",
      "Enter a letter: l\n"
     ]
    }
   ],
   "source": [
    "inputString = input(\"Please enter a string: \")\n",
    "key = input(\"Enter a letter: \")\n",
    "\n",
    "position = 0\n",
    "for letter in inputString:\n",
    "    if (letter == key):\n",
    "        print(\"Found the first occurance of\", letter, \"at position\"\\\n",
    "              , position)\n",
    "        break\n",
    "        \n",
    "    position += 1\n",
    "        "
   ]
  },
  {
   "cell_type": "markdown",
   "metadata": {},
   "source": [
    "To notify that we did not find the key in the string we can use a flag:"
   ]
  },
  {
   "cell_type": "code",
   "execution_count": 25,
   "metadata": {},
   "outputs": [
    {
     "name": "stdout",
     "output_type": "stream",
     "text": [
      "Please enter a string: Python\n",
      "Enter a letter: l\n",
      "Did not find l\n"
     ]
    }
   ],
   "source": [
    "inputString = input(\"Please enter a string: \")\n",
    "key = input(\"Enter a letter: \")\n",
    "\n",
    "found = False # a flag\n",
    "\n",
    "for letter in inputString:\n",
    "    if (letter == key):\n",
    "        print(\"Found\", letter)\n",
    "        found = True\n",
    "        break\n",
    "        \n",
    "if (found == False): \n",
    "    print(\"Did not find\", key)"
   ]
  },
  {
   "cell_type": "markdown",
   "metadata": {},
   "source": [
    "Another good use of break. Keep asking the user for an input until they are done:"
   ]
  },
  {
   "cell_type": "code",
   "execution_count": 26,
   "metadata": {},
   "outputs": [
    {
     "name": "stdout",
     "output_type": "stream",
     "text": [
      "Please enter a string (Done to exit): It's a nice day!\n",
      "Enter a letter: z\n",
      "Did not find z\n",
      "Please enter a string (Done to exit): Hello there\n",
      "Enter a letter: h\n",
      "Found h\n",
      "Please enter a string (Done to exit): supercalifragilisticexpialidocious\n",
      "Enter a letter: x\n",
      "Found x\n",
      "Please enter a string (Done to exit): Done\n",
      "Good bye!\n"
     ]
    }
   ],
   "source": [
    "while True: \n",
    "    inputString = input(\"Please enter a string (Done to exit): \")\n",
    "    \n",
    "    if (inputString == 'Done'):\n",
    "        break\n",
    "    \n",
    "    key = input(\"Enter a letter: \")\n",
    "    \n",
    "    found = False # found is a flag\n",
    "\n",
    "    for letter in inputString:\n",
    "        if (letter == key):\n",
    "            print(\"Found\", letter)\n",
    "            found = True\n",
    "            break\n",
    "            \n",
    "    if (found == False): \n",
    "        print(\"Did not find\", key)\n",
    "\n",
    "print(\"Good bye!\")        "
   ]
  },
  {
   "cell_type": "markdown",
   "metadata": {},
   "source": [
    "# continue"
   ]
  },
  {
   "cell_type": "markdown",
   "metadata": {},
   "source": [
    "Finding positions of instances of a search key in a string using continue:"
   ]
  },
  {
   "cell_type": "code",
   "execution_count": 27,
   "metadata": {},
   "outputs": [
    {
     "name": "stdout",
     "output_type": "stream",
     "text": [
      "Please enter a string: supercalifragilisticexpialidocious\n",
      "Enter a letter: g\n",
      "Found g at position 12\n"
     ]
    }
   ],
   "source": [
    "inputString = input(\"Please enter a string: \")\n",
    "key = input(\"Enter a letter: \")\n",
    "\n",
    "position = 0\n",
    "\n",
    "for letter in inputString:\n",
    "    if (letter != key):\n",
    "        position += 1\n",
    "        continue\n",
    "   \n",
    "    print(\"Found\", key, \"at position\", position)\n",
    "    position += 1\n"
   ]
  },
  {
   "cell_type": "markdown",
   "metadata": {},
   "source": [
    "# pass"
   ]
  },
  {
   "cell_type": "code",
   "execution_count": 28,
   "metadata": {},
   "outputs": [],
   "source": [
    "for letter in \"Python\":\n",
    "    pass"
   ]
  },
  {
   "cell_type": "code",
   "execution_count": 29,
   "metadata": {},
   "outputs": [
    {
     "ename": "SyntaxError",
     "evalue": "unexpected EOF while parsing (<ipython-input-29-68bd6a80204a>, line 3)",
     "output_type": "error",
     "traceback": [
      "\u001b[0;36m  File \u001b[0;32m\"<ipython-input-29-68bd6a80204a>\"\u001b[0;36m, line \u001b[0;32m3\u001b[0m\n\u001b[0;31m    \u001b[0m\n\u001b[0m    ^\u001b[0m\n\u001b[0;31mSyntaxError\u001b[0m\u001b[0;31m:\u001b[0m unexpected EOF while parsing\n"
     ]
    }
   ],
   "source": [
    "# empty block will give SyntaxError\n",
    "for letter in \"Python\":\n",
    "    "
   ]
  },
  {
   "cell_type": "markdown",
   "metadata": {},
   "source": [
    "## Now check your understanding:"
   ]
  },
  {
   "cell_type": "markdown",
   "metadata": {},
   "source": [
    "1. Assign x = 97, write a while-loop and increment x and print x. Then exit the loop when x =101."
   ]
  },
  {
   "cell_type": "code",
   "execution_count": null,
   "metadata": {},
   "outputs": [],
   "source": []
  }
 ],
 "metadata": {
  "kernelspec": {
   "display_name": "Python 3",
   "language": "python",
   "name": "python3"
  },
  "language_info": {
   "codemirror_mode": {
    "name": "ipython",
    "version": 3
   },
   "file_extension": ".py",
   "mimetype": "text/x-python",
   "name": "python",
   "nbconvert_exporter": "python",
   "pygments_lexer": "ipython3",
   "version": "3.7.3"
  }
 },
 "nbformat": 4,
 "nbformat_minor": 2
}

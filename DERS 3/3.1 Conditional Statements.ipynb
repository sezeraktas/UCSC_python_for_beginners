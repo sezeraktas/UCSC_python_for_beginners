{
 "cells": [
  {
   "cell_type": "markdown",
   "metadata": {},
   "source": [
    "# Conditional Statements"
   ]
  },
  {
   "cell_type": "code",
   "execution_count": 2,
   "metadata": {},
   "outputs": [
    {
     "name": "stdout",
     "output_type": "stream",
     "text": [
      "Please enter a greeting word! Hello\n",
      "Hi there!\n"
     ]
    }
   ],
   "source": [
    "user_input = input(\"Please enter a greeting word! \")\n",
    "if (user_input == \"Hello\"):\n",
    "    print(\"Hi there!\")"
   ]
  },
  {
   "cell_type": "code",
   "execution_count": 4,
   "metadata": {},
   "outputs": [
    {
     "name": "stdout",
     "output_type": "stream",
     "text": [
      "Please enter a greeting word! Hello\n",
      "Hi there!\n"
     ]
    }
   ],
   "source": [
    "user_input = input(\"Please enter a greeting word! \")\n",
    "if (user_input == \"Hello\" or user_input == \"Hi\"):\n",
    "    print(\"Hi there!\")"
   ]
  },
  {
   "cell_type": "code",
   "execution_count": 5,
   "metadata": {},
   "outputs": [
    {
     "name": "stdout",
     "output_type": "stream",
     "text": [
      "Please enter a greeting word! Good day\n",
      "Salute!\n"
     ]
    }
   ],
   "source": [
    "user_input = input(\"Please enter a greeting word! \")\n",
    "if (user_input == \"Hello\" or user_input == \"Hi\"):\n",
    "    print(\"Hi there!\")\n",
    "else:\n",
    "    print(\"Salute!\")"
   ]
  },
  {
   "cell_type": "code",
   "execution_count": 6,
   "metadata": {},
   "outputs": [
    {
     "name": "stdout",
     "output_type": "stream",
     "text": [
      "Please enter a greeting word! Good afternoon\n",
      "Good afternoon my friend!\n"
     ]
    }
   ],
   "source": [
    "user_input = input(\"Please enter a greeting word! \")\n",
    "if (user_input == \"Hello\" or user_input == \"Hi\"):\n",
    "    print(\"Hi there!\")\n",
    "elif (user_input == \"Good morning\"):\n",
    "    print(\"Good morning!\")\n",
    "elif (user_input == \"Good afternoon\"):\n",
    "    print(\"Good afternoon my friend!\")\n",
    "else:\n",
    "    print(\"Salute!\")"
   ]
  },
  {
   "cell_type": "markdown",
   "metadata": {},
   "source": [
    "### Using operators"
   ]
  },
  {
   "cell_type": "code",
   "execution_count": 7,
   "metadata": {},
   "outputs": [
    {
     "name": "stdout",
     "output_type": "stream",
     "text": [
      "a > 0 is True\n",
      "a < 0 is False\n",
      "a == 0 is False\n",
      "a != 0 is True\n"
     ]
    }
   ],
   "source": [
    "a = 1\n",
    "print(\"a > 0 is\" , a > 0)\n",
    "print(\"a < 0 is\" , a < 0)\n",
    "print(\"a == 0 is\", a == 0)\n",
    "print(\"a != 0 is\", a != 0)"
   ]
  },
  {
   "cell_type": "code",
   "execution_count": 10,
   "metadata": {},
   "outputs": [
    {
     "name": "stdout",
     "output_type": "stream",
     "text": [
      "Enter a number: 0\n",
      "The number entered is zero.\n"
     ]
    }
   ],
   "source": [
    "a = int(input(\"Enter a number: \"))\n",
    "if (a > 0): \n",
    "    print(\"The number entered is positive.\")\n",
    "elif (a == 0): \n",
    "    print(\"The number entered is zero.\")\n",
    "else:\n",
    "    print(\"The number entered is negative.\")"
   ]
  },
  {
   "cell_type": "markdown",
   "metadata": {},
   "source": [
    "### Precedence rules "
   ]
  },
  {
   "cell_type": "code",
   "execution_count": 12,
   "metadata": {},
   "outputs": [
    {
     "name": "stdout",
     "output_type": "stream",
     "text": [
      "Enter a number: -2\n",
      "Enter another number: 3\n",
      "Either or both numbers entered are negative.\n"
     ]
    }
   ],
   "source": [
    "a = int(input(\"Enter a number: \"))\n",
    "b = int(input(\"Enter another number: \"))\n",
    "\n",
    "if a >= 0 and b >= 0:\n",
    "    print(\"Both numbers entered are zero or positive.\")\n",
    "else:\n",
    "    print(\"Either or both numbers entered are negative.\")\n"
   ]
  },
  {
   "cell_type": "code",
   "execution_count": 15,
   "metadata": {},
   "outputs": [
    {
     "name": "stdout",
     "output_type": "stream",
     "text": [
      "Enter a number: -4\n",
      "Enter another number: -55\n",
      "Both numbers entered are negative.\n"
     ]
    }
   ],
   "source": [
    "a = int(input(\"Enter a number: \"))\n",
    "b = int(input(\"Enter another number: \"))\n",
    "    \n",
    "if a >= 0 or b >= 0:\n",
    "    print(\"At least one number entered is zero or positive.\")\n",
    "else:\n",
    "    print(\"Both numbers entered are negative.\")\n",
    "    \n"
   ]
  },
  {
   "cell_type": "code",
   "execution_count": 16,
   "metadata": {},
   "outputs": [
    {
     "name": "stdout",
     "output_type": "stream",
     "text": [
      "Enter a number: 3\n",
      "Enter another number: -2\n",
      "First number entered is zero or positive, and second number entered is negative.\n"
     ]
    }
   ],
   "source": [
    "a = int(input(\"Enter a number: \"))\n",
    "b = int(input(\"Enter another number: \"))\n",
    "\n",
    "if not a >= 0 or b >= 0:\n",
    "    print(\"First number entered is negative, or second number is zero or positive.\")\n",
    "else:\n",
    "    print(\"First number entered is zero or positive, and second number entered is negative.\")"
   ]
  },
  {
   "cell_type": "markdown",
   "metadata": {},
   "source": [
    "#### Problem:\n",
    "Covering the tomatoes"
   ]
  },
  {
   "cell_type": "code",
   "execution_count": 20,
   "metadata": {},
   "outputs": [
    {
     "name": "stdout",
     "output_type": "stream",
     "text": [
      "What is the temperature? 44\n",
      "Uncover Tomatoes\n"
     ]
    }
   ],
   "source": [
    "def coverTomatoes():\n",
    "    print(\"Cover Tomatoes\")\n",
    "\n",
    "\n",
    "def uncoverTomatoes():\n",
    "    print(\"Uncover Tomatoes\")\n",
    "    \n",
    "\n",
    "tempStr = input(\"What is the temperature? \")\n",
    "temp = float(tempStr)\n",
    "\n",
    "if (temp < 32):\n",
    "    coverTomatoes()\n",
    "else:\n",
    "    uncoverTomatoes()"
   ]
  },
  {
   "cell_type": "markdown",
   "metadata": {},
   "source": [
    "#### Problem:\n",
    "\n",
    "Let's say people would go shopping depending on the weather as below: \n",
    "\n",
    "Group A: Would go shopping if the weather is not rainy, they did not care about the temperature.\n",
    "\n",
    "Group B: Would go shopping if the temparature is not below 32 degrees, they did not care about rain.\n",
    "\n",
    "Group C: Would go shopping if the weather is not rainy or the temperature is above 32.\n",
    "\n",
    "Group D: Would go shopping if the weather is not rainy and the temperature is above 32.\n",
    "\n",
    "Group E: Would go shopping anyways.\n",
    "\n",
    "\n",
    "Write a function to see which group goes shopping given if the weather is rainy and temperature as parameters to the function.\n"
   ]
  },
  {
   "cell_type": "code",
   "execution_count": 23,
   "metadata": {},
   "outputs": [
    {
     "name": "stdout",
     "output_type": "stream",
     "text": [
      "Group B goes shopping\n",
      "Group C goes shopping\n",
      "Group E goes shopping\n"
     ]
    }
   ],
   "source": [
    "def groupThatShop(isRainy, temp):\n",
    "# this function receives a boolean and a number as parameters\n",
    "    \n",
    "    if(not isRainy):\n",
    "        print(\"Group A goes shopping\")\n",
    "    \n",
    "    if(temp >= 32):\n",
    "        print(\"Group B goes shopping\")\n",
    "    \n",
    "    if(not isRainy or temp > 32):\n",
    "        print(\"Group C goes shopping\")\n",
    "        \n",
    "    if(not isRainy and temp > 32):\n",
    "        print(\"Group D goes shopping\")\n",
    "        \n",
    "    print(\"Group E goes shopping\")\n",
    "    \n",
    "    \n",
    "groupThatShop(True, 60)\n"
   ]
  },
  {
   "cell_type": "markdown",
   "metadata": {},
   "source": [
    " #### Problem: Finding the leap year\n",
    " \n",
    " Three criteria must be taken into account to identify leap years: \n",
    "    \n",
    "   The year is evenly divisible by 4;\n",
    "    \n",
    "   If the year can be evenly divided by 100, it is NOT a leap year,\n",
    "    unless,\n",
    "    \n",
    "   The year is also evenly divisible by 400. \n",
    "\n",
    "\n",
    "Write a function that takes a year as a parameter and returns True if the year is a leap year, False otherwise. Here are some examples:\n",
    "    \n",
    "   Years 100, 1900, and 2010 are not leap years.\n",
    "    \n",
    "   Years 400, 2000 and 2020 are leap years.\n",
    "    "
   ]
  },
  {
   "cell_type": "code",
   "execution_count": 25,
   "metadata": {},
   "outputs": [
    {
     "name": "stdout",
     "output_type": "stream",
     "text": [
      "Enter a year: 2021\n",
      "Year 2021 is not a leap year.\n"
     ]
    }
   ],
   "source": [
    "def is_leap(year):\n",
    "    leap = False\n",
    "    \n",
    "    if (year % 4 == 0):\n",
    "        if (year % 100 == 0): \n",
    "            if (year % 400 == 0):\n",
    "                leap = True\n",
    "        else:\n",
    "            leap = True\n",
    "            \n",
    "    return leap\n",
    "\n",
    "\n",
    "year = int(input(\"Enter a year: \"))\n",
    "\n",
    "isLeapYear = is_leap(year)\n",
    "\n",
    "message = \"Year \" + str(year) + \" is\"\n",
    "\n",
    "if (not isLeapYear):\n",
    "    message += \" not\"\n",
    "\n",
    "message += \" a leap year.\"\n",
    "\n",
    "print(message)"
   ]
  },
  {
   "cell_type": "markdown",
   "metadata": {},
   "source": [
    "## Now check your understanding:"
   ]
  },
  {
   "cell_type": "markdown",
   "metadata": {},
   "source": [
    "1. Get a number from the user and see if it is greater than 50 and less than 150. If it is, then print the value of the entered number otherwise print \"Sorry the value is out of range\"."
   ]
  },
  {
   "cell_type": "code",
   "execution_count": 28,
   "metadata": {},
   "outputs": [
    {
     "name": "stdout",
     "output_type": "stream",
     "text": [
      "Please enter a number: 200\n",
      "Sorry the value is out of range.\n"
     ]
    }
   ],
   "source": [
    "user_input = float(input(\"Please enter a number: \"))\n",
    "\n",
    "if user_input > 50 and user_input < 150:\n",
    "    print(user_input)\n",
    "else:\n",
    "    print(\"Sorry the value is out of range.\")"
   ]
  },
  {
   "cell_type": "code",
   "execution_count": null,
   "metadata": {},
   "outputs": [],
   "source": []
  },
  {
   "cell_type": "code",
   "execution_count": null,
   "metadata": {},
   "outputs": [],
   "source": []
  },
  {
   "cell_type": "markdown",
   "metadata": {},
   "source": [
    "### The short-circuit boolean evaluation"
   ]
  },
  {
   "cell_type": "markdown",
   "metadata": {},
   "source": [
    "When the first operand determines the result of the evaluation of a boolean expression, Python does not evaluate the second operand."
   ]
  },
  {
   "cell_type": "markdown",
   "metadata": {},
   "source": [
    "Example: When the first operand for or evaualtes to True:"
   ]
  },
  {
   "cell_type": "code",
   "execution_count": null,
   "metadata": {},
   "outputs": [],
   "source": [
    "answer = input('Continue?')\n",
    "if answer == 'Y' or answer == 'y':\n",
    "    print('Continuing!')"
   ]
  },
  {
   "cell_type": "markdown",
   "metadata": {},
   "source": [
    "Example: When the first operand for and evaualtes to Fasle:"
   ]
  },
  {
   "cell_type": "code",
   "execution_count": null,
   "metadata": {},
   "outputs": [],
   "source": [
    "total_weight = int(input('Enter total weight of luggage:'))\n",
    "num_pieces = int(input('Number of pieces of luggage?'))\n",
    "\n",
    "if total_weight / num_pieces > 50:\n",
    "    print('Average weight is greater than 50 pounds -> $100 surcharge.')\n",
    "\n",
    "print('Luggage check complete.')\n",
    "\n"
   ]
  },
  {
   "cell_type": "code",
   "execution_count": null,
   "metadata": {},
   "outputs": [],
   "source": [
    "if num_pieces != 0:\n",
    "    if total_weight / num_pieces > 50:\n",
    "        print('Average weight is greater than 50 pounds -> $100 surcharge.')\n",
    "\n",
    "print('Luggage check complete.')"
   ]
  },
  {
   "cell_type": "code",
   "execution_count": null,
   "metadata": {},
   "outputs": [],
   "source": [
    "total_weight = int(input('Enter total weight of luggage:'))\n",
    "num_pieces = int(input('Number of pieces of luggage?'))\n",
    "\n",
    "if num_pieces != 0 and total_weight / num_pieces > 50:\n",
    "    print('Average weight is greater than 50 pounds -> $100 surcharge.')\n",
    "\n",
    "print('Luggage check complete.')\n"
   ]
  },
  {
   "cell_type": "code",
   "execution_count": null,
   "metadata": {},
   "outputs": [],
   "source": []
  }
 ],
 "metadata": {
  "kernelspec": {
   "display_name": "Python 3",
   "language": "python",
   "name": "python3"
  },
  "language_info": {
   "codemirror_mode": {
    "name": "ipython",
    "version": 3
   },
   "file_extension": ".py",
   "mimetype": "text/x-python",
   "name": "python",
   "nbconvert_exporter": "python",
   "pygments_lexer": "ipython3",
   "version": "3.7.3"
  }
 },
 "nbformat": 4,
 "nbformat_minor": 2
}

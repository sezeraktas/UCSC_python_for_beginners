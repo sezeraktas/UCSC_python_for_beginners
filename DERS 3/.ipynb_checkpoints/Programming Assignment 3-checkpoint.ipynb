{
 "cells": [
  {
   "cell_type": "markdown",
   "metadata": {},
   "source": [
    "## Programming Assignment 3"
   ]
  },
  {
   "cell_type": "code",
   "execution_count": 2,
   "metadata": {},
   "outputs": [],
   "source": [
    "# Name:Sezer Aktas Turan "
   ]
  },
  {
   "cell_type": "markdown",
   "metadata": {},
   "source": [
    "1. Ask the user to input a number. Check whether the number is divisible by either 5 or 6 or both or neither of them and print an appropriate statement to indicate the result. (25 points)"
   ]
  },
  {
   "cell_type": "code",
   "execution_count": 11,
   "metadata": {},
   "outputs": [
    {
     "name": "stdout",
     "output_type": "stream",
     "text": [
      "Please input a number: 30\n",
      "The number you entered is divisible by 5 and 6\n"
     ]
    }
   ],
   "source": [
    "userInput = float(input(\"Please input a number: \"))\n",
    "\n",
    "if (userInput % 5 == 0 and userInput % 6 == 0):\n",
    "    print(\"The number you entered is divisible by 5 and 6\")\n",
    "elif (userInput % 5 == 0 or userInput % 6 == 0):\n",
    "    print(\"The number you entered is divisible by  5 or 6\")\n",
    "else:\n",
    "    print(\"The number you entered is neither divisible by 5 or 6\")"
   ]
  },
  {
   "cell_type": "code",
   "execution_count": 8,
   "metadata": {},
   "outputs": [],
   "source": [
    "#Please do not edit this cell"
   ]
  },
  {
   "cell_type": "markdown",
   "metadata": {},
   "source": [
    "2. Ask the user to input a min and a max value for a range of numbers. Then use range(min, max) to:\n",
    "\n",
    "    a) Loop through the range specified by the user and find all the numbers that are divisible by 3 and print them.\n",
    "\n",
    "    b) Loop through the range and find only the first multiple of 3 and print it.\n",
    "\n",
    "    (25 points)"
   ]
  },
  {
   "cell_type": "code",
   "execution_count": 21,
   "metadata": {},
   "outputs": [
    {
     "name": "stdout",
     "output_type": "stream",
     "text": [
      "Please input the minimum value for the range: 50\n",
      "Please input the maximum value for the range: 100\n",
      "51\n",
      "54\n",
      "57\n",
      "60\n",
      "63\n",
      "66\n",
      "69\n",
      "72\n",
      "75\n",
      "78\n",
      "81\n",
      "84\n",
      "87\n",
      "90\n",
      "93\n",
      "96\n",
      "99\n",
      "51\n"
     ]
    }
   ],
   "source": [
    "min = int(input(\"Please input the minimum value for the range: \"))\n",
    "max = int(input(\"Please input the maximum value for the range: \"))\n",
    "\n",
    "# The first question\n",
    "for x in range(min, max):\n",
    "    if (x % 3 == 0):\n",
    "        print(x)\n",
    "\n",
    "# The second question        \n",
    "for x in range(min, max):\n",
    "    if (x % 3 == 0):\n",
    "        print(x)\n",
    "        break"
   ]
  },
  {
   "cell_type": "code",
   "execution_count": 4,
   "metadata": {},
   "outputs": [],
   "source": [
    "#Please do not edit this cell"
   ]
  },
  {
   "cell_type": "markdown",
   "metadata": {},
   "source": [
    "3. Ask the user to input a word. Slice first four characters from the word and print it. Do the necessary operations so that the output will be the word with the first four characters capitalized. (25 points)\n",
    "\n",
    "    Example: \n",
    "    Input: \"equation\", \n",
    "    Output: \"EQUAtion\" "
   ]
  },
  {
   "cell_type": "code",
   "execution_count": 27,
   "metadata": {},
   "outputs": [
    {
     "name": "stdout",
     "output_type": "stream",
     "text": [
      "Please input a word: zfdzfdgdgdgdgdfögslögçsögçfg\n",
      "ZFDZfdgdgdgdgdfögslögçsögçfg\n"
     ]
    }
   ],
   "source": [
    "myString = input(\"Please input a word: \")\n",
    "\n",
    "\n",
    "def capitalize(myString):\n",
    "    return \"\".join([myString[0:4].upper(),myString[4:]])\n",
    "\n",
    "print(capitalize(myString))\n"
   ]
  },
  {
   "cell_type": "code",
   "execution_count": null,
   "metadata": {},
   "outputs": [],
   "source": [
    "#Please do not edit this cell"
   ]
  },
  {
   "cell_type": "markdown",
   "metadata": {},
   "source": [
    "4. Ask the user to input their first name and last name separated by a blank. Then print to the output the last name followed by a comma, a blank and first name. (25 points)"
   ]
  },
  {
   "cell_type": "code",
   "execution_count": 31,
   "metadata": {},
   "outputs": [
    {
     "name": "stdout",
     "output_type": "stream",
     "text": [
      "Please input your firstname and last name separated by a blank: dursun turan\n"
     ]
    },
    {
     "data": {
      "text/plain": [
       "'turan, dursun'"
      ]
     },
     "execution_count": 31,
     "metadata": {},
     "output_type": "execute_result"
    }
   ],
   "source": [
    "firstName_lastName = input(\"Please input your firstname and last name separated by a blank: \")\n",
    "myList = firstName_lastName.split()\n",
    "\", \".join([myList[1], myList[0]])"
   ]
  },
  {
   "cell_type": "code",
   "execution_count": null,
   "metadata": {},
   "outputs": [],
   "source": [
    "#Please do not edit this cell"
   ]
  }
 ],
 "metadata": {
  "kernelspec": {
   "display_name": "Python 3 (ipykernel)",
   "language": "python",
   "name": "python3"
  },
  "language_info": {
   "codemirror_mode": {
    "name": "ipython",
    "version": 3
   },
   "file_extension": ".py",
   "mimetype": "text/x-python",
   "name": "python",
   "nbconvert_exporter": "python",
   "pygments_lexer": "ipython3",
   "version": "3.8.12"
  }
 },
 "nbformat": 4,
 "nbformat_minor": 2
}

{
 "cells": [
  {
   "cell_type": "markdown",
   "metadata": {},
   "source": [
    "# Writing to a text file"
   ]
  },
  {
   "cell_type": "markdown",
   "metadata": {},
   "source": [
    "### write()\n",
    "\n",
    "Writes a string to the file. There is no return value."
   ]
  },
  {
   "cell_type": "code",
   "execution_count": 1,
   "metadata": {},
   "outputs": [],
   "source": [
    "f = open(\"shoppingList.txt\", \"w\")\n",
    "\n",
    "f.write(\"Apples\")\n",
    "f.write(\" \")\n",
    "f.write(\"Bananas\")\n",
    "f.write(\"\\t\")\n",
    "f.write(\"Oranges\")\n",
    "f.write(\"\\n\\n\")\n",
    "f.write(\"Apricots    \\n\")\n",
    "\n",
    "f.close()"
   ]
  },
  {
   "cell_type": "markdown",
   "metadata": {},
   "source": [
    "Opening a file in write mode will create a new file or overwrite an existing file."
   ]
  },
  {
   "cell_type": "code",
   "execution_count": 2,
   "metadata": {},
   "outputs": [],
   "source": [
    "f = open(\"shoppingList.txt\", \"w\")\n",
    "shoppingItems = [\"Apples\", \"Bananas\", \"Oranges\", \"Apricot\"]\n",
    "\n",
    "for item in shoppingItems:\n",
    "    f.write(item + \"\\n\")\n",
    "    \n",
    "f.close()"
   ]
  },
  {
   "cell_type": "code",
   "execution_count": 3,
   "metadata": {},
   "outputs": [],
   "source": [
    "f = open(\"shoppingList.txt\", \"w\")\n",
    "shoppingItems = [\"Apples\", \"Bananas\", \"Oranges\", \"Apricot\"]\n",
    "\n",
    "for item in shoppingItems[:-1]:\n",
    "    f.write(item + \"\\n\")\n",
    "\n",
    "f.write(shoppingItems[-1]) \n",
    "\n",
    "f.close()"
   ]
  },
  {
   "cell_type": "code",
   "execution_count": 4,
   "metadata": {},
   "outputs": [],
   "source": [
    "f = open(\"shoppingList.txt\", \"w\")\n",
    "shoppingItems = [\"Apples\", \"Bananas\", \"Oranges\", \"Apricot\"]\n",
    "f.write('\\n'.join(shoppingItems))\n",
    "f.close()"
   ]
  },
  {
   "cell_type": "code",
   "execution_count": 5,
   "metadata": {},
   "outputs": [
    {
     "ename": "ValueError",
     "evalue": "I/O operation on closed file.",
     "output_type": "error",
     "traceback": [
      "\u001b[0;31m---------------------------------------------------------------------------\u001b[0m",
      "\u001b[0;31mValueError\u001b[0m                                Traceback (most recent call last)",
      "\u001b[0;32m<ipython-input-5-7a47f7ac4f19>\u001b[0m in \u001b[0;36m<module>\u001b[0;34m\u001b[0m\n\u001b[0;32m----> 1\u001b[0;31m \u001b[0mf\u001b[0m\u001b[0;34m.\u001b[0m\u001b[0mwrite\u001b[0m\u001b[0;34m(\u001b[0m\u001b[0;34m\"Grapes\"\u001b[0m\u001b[0;34m)\u001b[0m \u001b[0;31m#Gives ValueError because f is closed\u001b[0m\u001b[0;34m\u001b[0m\u001b[0;34m\u001b[0m\u001b[0m\n\u001b[0m",
      "\u001b[0;31mValueError\u001b[0m: I/O operation on closed file."
     ]
    }
   ],
   "source": [
    "f.write(\"Grapes\") #Gives ValueError because f is closed"
   ]
  },
  {
   "cell_type": "markdown",
   "metadata": {},
   "source": [
    "### writelines()\n",
    "\n",
    "Writes a sequence (or iterable) to the file. There is no return value."
   ]
  },
  {
   "cell_type": "code",
   "execution_count": 6,
   "metadata": {},
   "outputs": [],
   "source": [
    "f = open(\"shoppingList.txt\", \"w\")\n",
    "shoppingItems = [\"Apples\", \"Bananas\", \"Oranges\", \"Apricot\"]\n",
    "f.writelines(shoppingItems)\n",
    "f.close()"
   ]
  },
  {
   "cell_type": "code",
   "execution_count": 7,
   "metadata": {},
   "outputs": [],
   "source": [
    "f = open(\"shoppingList.txt\", \"w\")\n",
    "shoppingItems = [\"Apples\", \"Bananas\", \"Oranges\", \"Apricot\"]\n",
    "f.writelines([i+\"\\n\" for i in shoppingItems[:-1]] \n",
    "             + [shoppingItems[-1]])\n",
    "f.close()"
   ]
  },
  {
   "cell_type": "code",
   "execution_count": 8,
   "metadata": {},
   "outputs": [],
   "source": [
    "f = open(\"shoppingList.txt\", \"w\")\n",
    "shoppingItems = [\"Apples\\n\", \"Bananas\\n\", \"Oranges\\n\", \"Apricot\"]\n",
    "f.writelines(shoppingItems)\n",
    "f.close()"
   ]
  },
  {
   "cell_type": "markdown",
   "metadata": {},
   "source": [
    "# Reading a text file"
   ]
  },
  {
   "cell_type": "markdown",
   "metadata": {},
   "source": [
    "### read()"
   ]
  },
  {
   "cell_type": "code",
   "execution_count": 9,
   "metadata": {},
   "outputs": [
    {
     "name": "stdout",
     "output_type": "stream",
     "text": [
      "Apples\n",
      "Bananas\n",
      "Oranges\n",
      "Apricot\n"
     ]
    }
   ],
   "source": [
    "f = open(\"shoppingList.txt\", \"r\")\n",
    "print(f.read())\n",
    "f.close()"
   ]
  },
  {
   "cell_type": "code",
   "execution_count": 10,
   "metadata": {},
   "outputs": [
    {
     "name": "stdout",
     "output_type": "stream",
     "text": [
      "Apple\n"
     ]
    }
   ],
   "source": [
    "f = open(\"shoppingList.txt\", \"r\")\n",
    "print(f.read(5))\n",
    "f.close()"
   ]
  },
  {
   "cell_type": "markdown",
   "metadata": {},
   "source": [
    "### readline()"
   ]
  },
  {
   "cell_type": "code",
   "execution_count": 12,
   "metadata": {},
   "outputs": [
    {
     "name": "stdout",
     "output_type": "stream",
     "text": [
      "Apples\n",
      "Bananas\n",
      "\n"
     ]
    }
   ],
   "source": [
    "f = open(\"shoppingList.txt\", \"r\")\n",
    "print(f.readline(), end = '') \n",
    "print(f.readline())\n",
    "f.close()"
   ]
  },
  {
   "cell_type": "markdown",
   "metadata": {},
   "source": [
    "### readlines()"
   ]
  },
  {
   "cell_type": "code",
   "execution_count": 13,
   "metadata": {},
   "outputs": [
    {
     "name": "stdout",
     "output_type": "stream",
     "text": [
      "['Apples\\n', 'Bananas\\n', 'Oranges\\n', 'Apricot']\n"
     ]
    }
   ],
   "source": [
    "f = open(\"shoppingList.txt\", \"r\")\n",
    "print(f.readlines())    \n",
    "f.close()"
   ]
  },
  {
   "cell_type": "code",
   "execution_count": 5,
   "metadata": {},
   "outputs": [],
   "source": [
    "f = open(\"shoppingList.txt\", \"r\")\n",
    "\n",
    "for line in f.readlines():\n",
    "    print(line)    \n",
    "\n",
    "f.close()"
   ]
  },
  {
   "cell_type": "code",
   "execution_count": 6,
   "metadata": {},
   "outputs": [],
   "source": [
    "f = open(\"shoppingList.txt\", \"r\")\n",
    "\n",
    "for line in f.readlines():  \n",
    "    print(line.strip()) \n",
    "\n",
    "f.close()"
   ]
  },
  {
   "cell_type": "code",
   "execution_count": 16,
   "metadata": {},
   "outputs": [
    {
     "name": "stdout",
     "output_type": "stream",
     "text": [
      "Apples\n",
      "Bananas\n",
      "Oranges\n",
      "Apricot"
     ]
    }
   ],
   "source": [
    "f = open(\"shoppingList.txt\", \"r\")\n",
    "\n",
    "for line in f.readlines():\n",
    "    print(line, end ='')   \n",
    "\n",
    "f.close()"
   ]
  },
  {
   "cell_type": "markdown",
   "metadata": {},
   "source": [
    "### Overwriting the shoppingList file"
   ]
  },
  {
   "cell_type": "code",
   "execution_count": 17,
   "metadata": {},
   "outputs": [],
   "source": [
    "f = open(\"shoppingList.txt\", \"w\")\n",
    "\n",
    "f.write(\"Bread\\n\")\n",
    "f.write(\"Cookies\\n\")\n",
    "f.write(\"Pizza\\n\")\n",
    "f.close()"
   ]
  },
  {
   "cell_type": "code",
   "execution_count": 18,
   "metadata": {},
   "outputs": [
    {
     "name": "stdout",
     "output_type": "stream",
     "text": [
      "Bread\n",
      "Cookies\n",
      "Pizza\n"
     ]
    }
   ],
   "source": [
    "f = open(\"shoppingList.txt\", \"r\")\n",
    "\n",
    "for line in f.readlines():\n",
    "    print(line.strip())\n",
    "\n",
    "f.close()"
   ]
  },
  {
   "cell_type": "markdown",
   "metadata": {},
   "source": [
    "# Appending to a file"
   ]
  },
  {
   "cell_type": "code",
   "execution_count": 19,
   "metadata": {},
   "outputs": [],
   "source": [
    "f = open(\"shoppingList.txt\", \"a\")\n",
    "\n",
    "f.write(\"Pasta\\n\")\n",
    "f.write(\"Rice\\n\")\n",
    "\n",
    "f.close()"
   ]
  },
  {
   "cell_type": "code",
   "execution_count": 20,
   "metadata": {},
   "outputs": [
    {
     "name": "stdout",
     "output_type": "stream",
     "text": [
      "Bread\n",
      "Cookies\n",
      "Pizza\n",
      "Pasta\n",
      "Rice\n"
     ]
    }
   ],
   "source": [
    "f = open(\"shoppingList.txt\", \"r\")\n",
    "\n",
    "for line in f.readlines():\n",
    "    print(line.strip())\n",
    "\n",
    "f.close()"
   ]
  },
  {
   "cell_type": "markdown",
   "metadata": {},
   "source": [
    "# tell() and seek()"
   ]
  },
  {
   "cell_type": "code",
   "execution_count": 21,
   "metadata": {},
   "outputs": [
    {
     "name": "stdout",
     "output_type": "stream",
     "text": [
      "offset = 0\n",
      "offset = 20\n"
     ]
    }
   ],
   "source": [
    "f = open(\"shoppingList.txt\", \"r\")\n",
    "print(\"offset =\", f.tell())\n",
    "f.read(20)\n",
    "print(\"offset =\", f.tell())\n",
    "f.close()"
   ]
  },
  {
   "cell_type": "code",
   "execution_count": 22,
   "metadata": {},
   "outputs": [
    {
     "name": "stdout",
     "output_type": "stream",
     "text": [
      "Bread\n",
      "Cookies\n",
      "Pizza\n",
      "Pasta\n",
      "Rice\n",
      "31\n"
     ]
    }
   ],
   "source": [
    "f = open(\"shoppingList.txt\", \"r\")\n",
    "\n",
    "for line in f.readlines():\n",
    "    print(line.strip())\n",
    "    \n",
    "print(f.tell())\n",
    "\n",
    "f.close()"
   ]
  },
  {
   "cell_type": "code",
   "execution_count": 23,
   "metadata": {},
   "outputs": [
    {
     "name": "stdout",
     "output_type": "stream",
     "text": [
      "File pointer before the call to seek function: 39\n",
      "File pointer after the call to seek function: 0\n",
      "Bread\n",
      "Cookies\n",
      "Pizza\n",
      "Pasta\n",
      "Rice\n",
      "\n",
      "Cereal\n"
     ]
    }
   ],
   "source": [
    "f = open(\"shoppingList.txt\", \"a+\")\n",
    "\n",
    "f.write(\"\\n\")\n",
    "f.write(\"Cereal\\n\")\n",
    "\n",
    "print(\"File pointer before the call to seek function:\", f.tell())\n",
    "f.seek(0,0)\n",
    "print(\"File pointer after the call to seek function:\",f.tell())\n",
    "\n",
    "for line in f.readlines():\n",
    "    print(line.strip())\n",
    "    \n",
    "f.close()"
   ]
  },
  {
   "cell_type": "markdown",
   "metadata": {},
   "source": [
    "### Examples"
   ]
  },
  {
   "cell_type": "code",
   "execution_count": 24,
   "metadata": {},
   "outputs": [
    {
     "name": "stdout",
     "output_type": "stream",
     "text": [
      "Bread\n",
      "Cookies\n",
      "Pizza\n",
      "Pasta\n",
      "Rice\n",
      "Cereal\n"
     ]
    }
   ],
   "source": [
    "# Printing non-empty lines\n",
    "f = open(\"shoppingList.txt\", \"r\")\n",
    "\n",
    "for line in f.readlines():\n",
    "    trimmedLine = line.strip()\n",
    "    \n",
    "    if trimmedLine:\n",
    "        print(trimmedLine)\n",
    "\n",
    "f.close()"
   ]
  },
  {
   "cell_type": "code",
   "execution_count": 25,
   "metadata": {},
   "outputs": [
    {
     "name": "stdout",
     "output_type": "stream",
     "text": [
      "True\n",
      "True\n",
      "True\n",
      "True\n",
      "False\n"
     ]
    }
   ],
   "source": [
    "print(bool(\"Bread\"))\n",
    "print(bool(\"\\n\"))\n",
    "print(bool(\"\\t\"))\n",
    "print(bool(\" \"))\n",
    "print(bool(\"\"))"
   ]
  },
  {
   "cell_type": "code",
   "execution_count": 26,
   "metadata": {},
   "outputs": [
    {
     "name": "stdout",
     "output_type": "stream",
     "text": [
      "Bread\n",
      "Cookies\n",
      "Pizza\n",
      "Pasta\n",
      "Rice\n",
      "\n",
      "Cereal\n"
     ]
    }
   ],
   "source": [
    "# Using readline()\n",
    "# readline() reads a single line and the trailing \\n\n",
    "f = open(\"shoppingList.txt\", \"r\")\n",
    "\n",
    "while(True):\n",
    "    line = f.readline()   # readline() returns empty string at EOF,\n",
    "                          # but note \\n is NOT empty\n",
    "    if(line):             # string is \"trivial\" only if it is empty\n",
    "        print(line.strip())\n",
    "    else:\n",
    "        break\n",
    "f.close() "
   ]
  },
  {
   "cell_type": "code",
   "execution_count": 27,
   "metadata": {},
   "outputs": [
    {
     "name": "stdout",
     "output_type": "stream",
     "text": [
      "Bread\n",
      "Cookies\n",
      "Pizza\n",
      "Pasta\n",
      "Rice\n",
      "\n",
      "Cereal\n"
     ]
    }
   ],
   "source": [
    "f = open(\"shoppingList.txt\", \"r\")\n",
    "\n",
    "line = f.readline()      \n",
    "print(line, end = \"\")\n",
    "\n",
    "while(line):\n",
    "    line = f.readline()  # readline() returns empty string at EOF,\n",
    "                         # but note \\n is NOT empty\n",
    "                         # string is \"trivial\" only if it is empty\n",
    "    print(line, end = \"\")\n",
    "    \n",
    "f.close() "
   ]
  },
  {
   "cell_type": "markdown",
   "metadata": {},
   "source": [
    "### File Attributes"
   ]
  },
  {
   "cell_type": "code",
   "execution_count": 28,
   "metadata": {},
   "outputs": [
    {
     "name": "stdout",
     "output_type": "stream",
     "text": [
      "mode = r\n",
      "name = shoppingList.txt\n",
      "closed = False\n",
      "closed = True\n"
     ]
    }
   ],
   "source": [
    "f = open(\"shoppingList.txt\", \"r\")\n",
    "print(\"mode =\",f.mode)\n",
    "print(\"name =\", f.name)\n",
    "print(\"closed =\", f.closed)# This member shows whether the file is closed\n",
    "f.close()\n",
    "print(\"closed =\",f.closed) "
   ]
  },
  {
   "cell_type": "markdown",
   "metadata": {},
   "source": [
    "## When to use w+ and r+ modes?\n",
    "Lets say we would like to open a file to read and write. Which one should we choose?"
   ]
  },
  {
   "cell_type": "markdown",
   "metadata": {},
   "source": [
    "### Case1: Opening a file that already exists:"
   ]
  },
  {
   "cell_type": "code",
   "execution_count": 29,
   "metadata": {},
   "outputs": [
    {
     "name": "stdout",
     "output_type": "stream",
     "text": [
      "['Bread\\n', 'Cookies\\n', 'Pizza\\n', 'Pasta\\n', 'Rice\\n', '\\n', 'Cereal\\n']\n"
     ]
    }
   ],
   "source": [
    "f = open(\"shoppingList.txt\", \"r+\")\n",
    "line = f.readlines()\n",
    "print(line)\n",
    "f.close()"
   ]
  },
  {
   "cell_type": "code",
   "execution_count": 30,
   "metadata": {},
   "outputs": [
    {
     "name": "stdout",
     "output_type": "stream",
     "text": [
      "[]\n"
     ]
    }
   ],
   "source": [
    "f = open(\"shoppingList.txt\", \"w+\") # Overwrites the existing file. The content will be gone.\n",
    "line = f.readlines()\n",
    "print(line)\n",
    "f.close()"
   ]
  },
  {
   "cell_type": "markdown",
   "metadata": {},
   "source": [
    "### Case2: Opening a file that does not exist:"
   ]
  },
  {
   "cell_type": "code",
   "execution_count": 31,
   "metadata": {},
   "outputs": [
    {
     "ename": "FileNotFoundError",
     "evalue": "[Errno 2] No such file or directory: 'newFile.txt'",
     "output_type": "error",
     "traceback": [
      "\u001b[0;31m---------------------------------------------------------------------------\u001b[0m",
      "\u001b[0;31mFileNotFoundError\u001b[0m                         Traceback (most recent call last)",
      "\u001b[0;32m<ipython-input-31-7ebf4ecde647>\u001b[0m in \u001b[0;36m<module>\u001b[0;34m\u001b[0m\n\u001b[0;32m----> 1\u001b[0;31m \u001b[0mf\u001b[0m \u001b[0;34m=\u001b[0m \u001b[0mopen\u001b[0m\u001b[0;34m(\u001b[0m\u001b[0;34m\"newFile.txt\"\u001b[0m\u001b[0;34m,\u001b[0m \u001b[0;34m\"r+\"\u001b[0m\u001b[0;34m)\u001b[0m  \u001b[0;31m# Gives FileNotFoundError if newFile.txt does not exist\u001b[0m\u001b[0;34m\u001b[0m\u001b[0;34m\u001b[0m\u001b[0m\n\u001b[0m",
      "\u001b[0;31mFileNotFoundError\u001b[0m: [Errno 2] No such file or directory: 'newFile.txt'"
     ]
    }
   ],
   "source": [
    "f = open(\"newFile.txt\", \"r+\")  # Gives FileNotFoundError if newFile.txt does not exist"
   ]
  },
  {
   "cell_type": "code",
   "execution_count": 32,
   "metadata": {},
   "outputs": [],
   "source": [
    "f = open(\"newFile.txt\", \"w+\")"
   ]
  },
  {
   "cell_type": "markdown",
   "metadata": {},
   "source": [
    "## Writing formatted strings to files"
   ]
  },
  {
   "cell_type": "code",
   "execution_count": 33,
   "metadata": {},
   "outputs": [],
   "source": [
    "rock_planets = [\"Mercury\", \"Venus\", \"Earth\", \"Mars\"]\n",
    "gas_planets = [\"Jupiter\", \"Saturn\"]\n",
    "ice_planets = [\"Uranus\", \"Neptune\"]\n",
    "\n",
    "f=open('ourSolarSystem.txt','w')\n",
    "\n",
    "for planet in rock_planets[:-1]:\n",
    "    f.write(f\"{planet}, \")\n",
    "    \n",
    "f.write(f\"and {rock_planets[-1]} are rocky planets, \")\n",
    "\n",
    "for planet in gas_planets[:-1]:\n",
    "    f.write(f\"{planet} \")\n",
    "    \n",
    "f.write(f\"and {gas_planets[-1]} are gas giants, and \")\n",
    "\n",
    "for planet in ice_planets[:-1]:\n",
    "    f.write(f\"{planet} \")\n",
    "    \n",
    "f.write(f\"and {ice_planets[-1]} are ice giants.\")\n",
    "\n",
    "\n",
    "f.close()"
   ]
  },
  {
   "cell_type": "markdown",
   "metadata": {},
   "source": [
    "### CSV files"
   ]
  },
  {
   "cell_type": "code",
   "execution_count": 34,
   "metadata": {},
   "outputs": [
    {
     "name": "stdout",
     "output_type": "stream",
     "text": [
      "day,temperature,windspeed,event\n",
      "7/1/2018,42,16,Rain\n",
      "7/2/2018,45,3,Sunny\n",
      "7/3/2018,78,12,Snow\n",
      "7/4/2018,74,9,NA\n",
      "7/5/2018,42,24,Rain\n",
      "7/6/2018,51,32,Sunny\n",
      "\n"
     ]
    }
   ],
   "source": [
    "f = open(\"weather_data.csv\", \"r\")\n",
    "print(f.read())\n",
    "f.close()"
   ]
  },
  {
   "cell_type": "code",
   "execution_count": 35,
   "metadata": {},
   "outputs": [
    {
     "name": "stdout",
     "output_type": "stream",
     "text": [
      "day,temperature,windspeed,event\n",
      "7/1/2018,42,16,Rain\n",
      "7/2/2018,45,3,Sunny\n",
      "7/3/2018,78,12,Snow\n",
      "7/4/2018,74,9,NA\n",
      "7/5/2018,42,24,Rain\n",
      "7/6/2018,51,32,Sunny\n"
     ]
    }
   ],
   "source": [
    "f = open(\"weather_data.csv\", \"r\")\n",
    "for line in f.readlines():\n",
    "    print(line.strip())\n",
    "f.close()"
   ]
  },
  {
   "cell_type": "code",
   "execution_count": 36,
   "metadata": {},
   "outputs": [
    {
     "name": "stdout",
     "output_type": "stream",
     "text": [
      "['day', 'temperature', 'windspeed', 'event']\n",
      "day temperature event\n",
      "7/1/2018: 42F; Rain\n",
      "7/2/2018: 45F; Sunny\n",
      "7/3/2018: 78F; Snow\n",
      "7/5/2018: 42F; Rain\n",
      "7/6/2018: 51F; Sunny\n"
     ]
    }
   ],
   "source": [
    "file = open(\"weather_data.csv\", 'r')\n",
    "lines = file.readlines()\n",
    "header = lines[0]\n",
    "field_names = header.strip().split(',')\n",
    "print(field_names)\n",
    "print(field_names[0], field_names[1], field_names[3])\n",
    "for row in lines[1:]:\n",
    "    vals = row.strip().split(',')\n",
    "    if vals[3] != \"NA\":\n",
    "        print(\"{}: {}F; {}\".format(vals[0], vals[1], vals[3]))"
   ]
  },
  {
   "cell_type": "markdown",
   "metadata": {},
   "source": [
    "## with context manager"
   ]
  },
  {
   "cell_type": "code",
   "execution_count": 37,
   "metadata": {},
   "outputs": [
    {
     "name": "stdout",
     "output_type": "stream",
     "text": [
      "day,temperature,windspeed,event\n",
      "7/1/2018,42,16,Rain\n",
      "7/2/2018,45,3,Sunny\n",
      "7/3/2018,78,12,Snow\n",
      "7/4/2018,74,9,NA\n",
      "7/5/2018,42,24,Rain\n",
      "7/6/2018,51,32,Sunny\n"
     ]
    }
   ],
   "source": [
    "# Using with context manager\n",
    "with open(\"weather_data.csv\") as myFile:\n",
    "    line = myFile.readline()\n",
    "    while line:\n",
    "        print(line, end=\"\")\n",
    "        line = myFile.readline()\n",
    "\n"
   ]
  },
  {
   "cell_type": "markdown",
   "metadata": {},
   "source": [
    "## Now test your understanding"
   ]
  },
  {
   "cell_type": "markdown",
   "metadata": {},
   "source": [
    "1.  Get a line of text from the user, Open a file for writing, Save the data to it, Close it, Open it again, Read the data back, Print it back out to the screen. Find the file in the directory where your code is. Open it and confirm that it matches with what you have printed out to the screen.\n",
    "\n",
    "    Create a new folder named test in the directory where your code is to keep your text files. Change the path in open() function so that your file will be created in the test folder you just created. Run your code again. Find the file in test directory and confirm it is there."
   ]
  },
  {
   "cell_type": "code",
   "execution_count": null,
   "metadata": {},
   "outputs": [],
   "source": []
  },
  {
   "cell_type": "markdown",
   "metadata": {},
   "source": [
    "2. Before performing this exercise, run the following code:"
   ]
  },
  {
   "cell_type": "code",
   "execution_count": null,
   "metadata": {},
   "outputs": [],
   "source": [
    "# Initialize our file to show the other operations\n",
    "\n",
    "f = open(\"Bear.txt\", \"w\")\n",
    "\n",
    "list = [1,3,5,2]\n",
    "\n",
    "for i in list:\n",
    "    str = \"Bear\" + \"\\n\"*i\n",
    "    f.write(str)\n",
    "\n",
    "f.close()"
   ]
  },
  {
   "cell_type": "markdown",
   "metadata": {},
   "source": [
    "Now, read file Bear.txt and count the number of non-empty lines in the file. Use tell() to find the file pointer’s position."
   ]
  },
  {
   "cell_type": "code",
   "execution_count": null,
   "metadata": {},
   "outputs": [],
   "source": []
  },
  {
   "cell_type": "markdown",
   "metadata": {},
   "source": [
    "3. Open a new file called newData.txt and write lines below:\n",
    "\n",
    "    New operators\n",
    "    \n",
    "    New findings\n",
    "    \n",
    "    New results\n",
    "\n",
    "    Then WITHOUT closing it, seek() back to the beginning and read all the lines. What change did you have to make to be able to read from the file."
   ]
  },
  {
   "cell_type": "code",
   "execution_count": null,
   "metadata": {},
   "outputs": [],
   "source": []
  }
 ],
 "metadata": {
  "kernelspec": {
   "display_name": "Python 3",
   "language": "python",
   "name": "python3"
  },
  "language_info": {
   "codemirror_mode": {
    "name": "ipython",
    "version": 3
   },
   "file_extension": ".py",
   "mimetype": "text/x-python",
   "name": "python",
   "nbconvert_exporter": "python",
   "pygments_lexer": "ipython3",
   "version": "3.7.3"
  }
 },
 "nbformat": 4,
 "nbformat_minor": 2
}

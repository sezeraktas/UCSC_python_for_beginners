{
 "cells": [
  {
   "cell_type": "markdown",
   "metadata": {},
   "source": [
    "### Programming Assignment 5"
   ]
  },
  {
   "cell_type": "code",
   "execution_count": null,
   "metadata": {},
   "outputs": [],
   "source": [
    "#Name:Sezer Aktas Turan"
   ]
  },
  {
   "cell_type": "markdown",
   "metadata": {},
   "source": [
    "1. a) Use format() method to print an integer value entered by the user and its cube root with two decimal places. \n",
    "    \n",
    "    b) Print the same values as part (a) using format() function with keyword arguments and labels number and cubeRoot as in: format(number=n,cubeRoot=cr)\n",
    "    \n",
    "    c) Switch the order of keyword arguments and show that this has no effect on the output. "
   ]
  },
  {
   "cell_type": "code",
   "execution_count": null,
   "metadata": {},
   "outputs": [],
   "source": [
    "#a\n",
    "my_number = int(input(\"Please enter an integer to find its cube root: \"))\n",
    "\n",
    "print('{0:.2f}'.format(my_number), '{0:.2f}'.format(my_number**(1/3)))\n",
    "\n",
    "#b\n",
    "\n",
    "n = int(input(\"Please enter an integer to find its cube root: \"))\n",
    "\n",
    "cr = n**(1/3)\n",
    "\n",
    "def format(number, cubeRoot):\n",
    "    print('{0:.2f}'.format(n), '{0:.2f}'.format(cr))\n",
    "\n",
    "format(number = n, cubeRoot = cr)\n",
    "\n",
    "#c\n",
    "n = int(input(\"Please enter an integer to find its cube root: \"))\n",
    "\n",
    "cr = n**(1/3)\n",
    "\n",
    "def format(number, cubeRoot):\n",
    "    print('{0:.2f}'.format(n), '{0:.2f}'.format(cr))\n",
    "\n",
    "format(cubeRoot = cr, number = n)"
   ]
  },
  {
   "cell_type": "code",
   "execution_count": 2,
   "metadata": {},
   "outputs": [],
   "source": [
    "#Please do not edit this cell"
   ]
  },
  {
   "cell_type": "markdown",
   "metadata": {},
   "source": [
    "2. Preview the provided sample file called studentdata.txt. It contains one line for each student in an imaginary class. The student’s name is the first thing on each line, followed by some exam scores. The number of scores might be different for each student.\n",
    "\n",
    "    Using the text file studentdata.txt write a program that calculates the average grade for each student, and print out the student’s name along with their average grade with two decimal places."
   ]
  },
  {
   "cell_type": "code",
   "execution_count": 31,
   "metadata": {},
   "outputs": [
    {
     "name": "stdout",
     "output_type": "stream",
     "text": [
      "- joe 23.00 \n",
      "- bill 48.75 \n",
      "- sue 32.42 \n",
      "- grace 88.50 \n",
      "- john 127.20 \n"
     ]
    }
   ],
   "source": [
    "Sum = 0\n",
    "\n",
    "grades = open(\"studentdata.txt\", \"r\")\n",
    "for line in grades.readlines():\n",
    "    stripped = line.strip()\n",
    "    splitted = stripped.split()\n",
    "    length = len(splitted)\n",
    "    for item in range(1,length):\n",
    "        Sum += int(splitted[item])\n",
    "        name = splitted[0]\n",
    "    print(\"- %s %.2f \" %(name,Sum/(length-1)))\n",
    "grades.close()\n",
    "\n"
   ]
  },
  {
   "cell_type": "code",
   "execution_count": 14,
   "metadata": {},
   "outputs": [],
   "source": [
    "#Please do not edit this cell"
   ]
  },
  {
   "cell_type": "markdown",
   "metadata": {},
   "source": [
    "3. Write a function that accepts a relative file path as parameter and returns number of non-empty lines in the file. Test your function with the provided sample file studentdata.txt. (25 points)"
   ]
  },
  {
   "cell_type": "code",
   "execution_count": 9,
   "metadata": {},
   "outputs": [
    {
     "name": "stdout",
     "output_type": "stream",
     "text": [
      "0\n"
     ]
    }
   ],
   "source": [
    "Empty_Line = 0\n",
    "\n",
    "def myFunction(data):\n",
    "    global Empty_Line\n",
    "    with open(r\"C:\\Users\\USER\\Downloads\\UCSC EXTENSION\\PYTHON DERSİ\\DERS 5\\studentdata.txt\", \"r\") as data:\n",
    "        for line in data.readlines():\n",
    "            if line.split() == []:\n",
    "                Empty_Line += 1\n",
    "    return Empty_Line\n",
    "\n",
    "print(myFunction(\"studentdata.txt\"))\n",
    "            "
   ]
  },
  {
   "cell_type": "code",
   "execution_count": 4,
   "metadata": {},
   "outputs": [],
   "source": [
    "#Please do not edit this cell"
   ]
  },
  {
   "cell_type": "markdown",
   "metadata": {},
   "source": [
    "4. Write code to create a file named labdata.txt and add the following numbers into it. Make sure you close the file afterwards.\n",
    "\n",
    "    80 19\n",
    "    \n",
    "    46 72\n",
    "    \n",
    "    83 96\n",
    "    \n",
    "    88 18\n",
    "\n",
    "    Open the labdata.txt you just created to append more numbers. Use tell() to find the file pointer’s position and store it in tPointer and print it. Then write code to append the following new data:\n",
    "\n",
    "    45 66\n",
    "    \n",
    "    78 99\n",
    "\n",
    "    Without closing the file, use seek(offset, 0) with appropriate offset to read and print only the lines that you just appended. Do not use a constant as offset."
   ]
  },
  {
   "cell_type": "code",
   "execution_count": 19,
   "metadata": {},
   "outputs": [
    {
     "name": "stdout",
     "output_type": "stream",
     "text": [
      "28\n",
      "45 66\n",
      "78 99\n"
     ]
    }
   ],
   "source": [
    "LabData = open(\"labdata.txt\", \"w\")\n",
    "LabData.write(\"80 19\\n\")\n",
    "LabData.write(\"46 72\\n\")\n",
    "LabData.write(\"83 96\\n\")\n",
    "LabData.write(\"88 18\\n\")\n",
    "LabData.close()\n",
    "\n",
    "LabData = open(\"labdata.txt\", \"a+\")\n",
    "tPointer = LabData.tell()\n",
    "print(tPointer)\n",
    "LabData.write(\"45 66\\n\")\n",
    "LabData.write(\"78 99\\n\")\n",
    "LabData.seek(28,0)\n",
    "for line in LabData.readlines():\n",
    "    print(line.strip())\n",
    "LabData.close()\n",
    "    \n",
    "    \n",
    "\n"
   ]
  },
  {
   "cell_type": "code",
   "execution_count": null,
   "metadata": {},
   "outputs": [],
   "source": [
    "#Please do not edit this cell"
   ]
  },
  {
   "cell_type": "code",
   "execution_count": null,
   "metadata": {},
   "outputs": [],
   "source": []
  }
 ],
 "metadata": {
  "kernelspec": {
   "display_name": "Python 3 (ipykernel)",
   "language": "python",
   "name": "python3"
  },
  "language_info": {
   "codemirror_mode": {
    "name": "ipython",
    "version": 3
   },
   "file_extension": ".py",
   "mimetype": "text/x-python",
   "name": "python",
   "nbconvert_exporter": "python",
   "pygments_lexer": "ipython3",
   "version": "3.8.12"
  }
 },
 "nbformat": 4,
 "nbformat_minor": 2
}

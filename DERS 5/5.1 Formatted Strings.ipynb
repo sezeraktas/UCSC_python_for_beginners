{
 "cells": [
  {
   "cell_type": "markdown",
   "metadata": {},
   "source": [
    "# Formatted Strings"
   ]
  },
  {
   "cell_type": "markdown",
   "metadata": {},
   "source": [
    "## Using format() method"
   ]
  },
  {
   "cell_type": "code",
   "execution_count": 2,
   "metadata": {},
   "outputs": [
    {
     "name": "stdout",
     "output_type": "stream",
     "text": [
      "I like fuji apples more than granny smith, \n",
      "because fuji apples are sweeter.\n"
     ]
    }
   ],
   "source": [
    "print(\"I like {0} apples more than {1}, \\nbecause {0} apples are \\\n",
    "sweeter.\".format(\"fuji\",\"granny smith\"))"
   ]
  },
  {
   "cell_type": "code",
   "execution_count": 3,
   "metadata": {},
   "outputs": [
    {
     "name": "stdout",
     "output_type": "stream",
     "text": [
      "I like granny smith apples more than fuji, because granny smith apples are sweeter.\n"
     ]
    }
   ],
   "source": [
    "print(\"I like {0} apples more than {1}, because {0} apples are \\\n",
    "sweeter.\".format(\"granny smith\",\"fuji\"))"
   ]
  },
  {
   "cell_type": "code",
   "execution_count": 4,
   "metadata": {},
   "outputs": [
    {
     "name": "stdout",
     "output_type": "stream",
     "text": [
      "I like fuji apples more than gala, because fuji apples are sweeter.\n"
     ]
    }
   ],
   "source": [
    "formatString = \"I like {} apples more than {}, because {} apples are sweeter.\"\n",
    "formattedString = formatString.format(\"fuji\", \"gala\", \"fuji\")\n",
    "print(formattedString)"
   ]
  },
  {
   "cell_type": "markdown",
   "metadata": {},
   "source": [
    "The order of values given to the format() is important. Unless you use lables as below:"
   ]
  },
  {
   "cell_type": "code",
   "execution_count": 5,
   "metadata": {},
   "outputs": [
    {
     "name": "stdout",
     "output_type": "stream",
     "text": [
      "I like fuji apples more than granny smith, because fuji apples are sweeter.\n"
     ]
    }
   ],
   "source": [
    "print(\"I like {apple1} apples more than {apple2}, because {apple1} \\\n",
    "apples are sweeter.\".format(apple1= \"fuji\", apple2= \"granny smith\"))"
   ]
  },
  {
   "cell_type": "code",
   "execution_count": 6,
   "metadata": {},
   "outputs": [
    {
     "name": "stdout",
     "output_type": "stream",
     "text": [
      "I like fuji apples more than granny smith, because fuji apples are sweeter.\n"
     ]
    }
   ],
   "source": [
    "print(\"I like {apple1} apples more than {apple2}, because {apple1} \\\n",
    "apples are sweeter.\".format(apple2= \"granny smith\", apple1= \"fuji\"))"
   ]
  },
  {
   "cell_type": "markdown",
   "metadata": {},
   "source": [
    "## Using fromat specifiers"
   ]
  },
  {
   "cell_type": "code",
   "execution_count": 7,
   "metadata": {},
   "outputs": [
    {
     "name": "stdout",
     "output_type": "stream",
     "text": [
      "I like fuji apples more than granny smith, because fuji apples are sweeter.\n"
     ]
    }
   ],
   "source": [
    "formatString = \"I like %s apples more than %s, because %s apples are sweeter.\"\n",
    "data = (\"fuji\",\"granny smith\",\"fuji\")\n",
    "formattedString = formatString  %  data\n",
    "print(formattedString)"
   ]
  },
  {
   "cell_type": "code",
   "execution_count": 8,
   "metadata": {},
   "outputs": [
    {
     "name": "stdout",
     "output_type": "stream",
     "text": [
      "I like fuji apples more than granny smith, because fuji apples are sweeter.\n"
     ]
    }
   ],
   "source": [
    "print(\"I like %s apples more than %s, because %s apples are sweeter.\" \n",
    "      %(\"fuji\",\"granny smith\",\"fuji\"))"
   ]
  },
  {
   "cell_type": "code",
   "execution_count": 9,
   "metadata": {},
   "outputs": [
    {
     "name": "stdout",
     "output_type": "stream",
     "text": [
      "Please enter your name: Fred\n",
      "please enter your age: 40\n",
      "The customer named Fred is 40 years old.\n"
     ]
    }
   ],
   "source": [
    "name = input(\"Please enter your name: \")\n",
    "age = int(input(\"please enter your age: \"))\n",
    "print(\"The customer named %s is %d years old.\" %(name,age))"
   ]
  },
  {
   "cell_type": "markdown",
   "metadata": {},
   "source": [
    "## Using formatted strings with decimal points"
   ]
  },
  {
   "cell_type": "code",
   "execution_count": 10,
   "metadata": {},
   "outputs": [
    {
     "name": "stdout",
     "output_type": "stream",
     "text": [
      "PI = 3.141500 and area = 314.150000\n"
     ]
    }
   ],
   "source": [
    "PI = 3.1415\n",
    "radius = 10\n",
    "print(\"PI = %f and area = %f\" %(PI, PI*radius**2))"
   ]
  },
  {
   "cell_type": "code",
   "execution_count": 11,
   "metadata": {},
   "outputs": [
    {
     "name": "stdout",
     "output_type": "stream",
     "text": [
      "PI = 3.14 and area = 314.1500\n"
     ]
    }
   ],
   "source": [
    "print(\"PI = %.2f and area = %.4f\" %(PI, PI*radius**2))"
   ]
  },
  {
   "cell_type": "code",
   "execution_count": 12,
   "metadata": {},
   "outputs": [
    {
     "name": "stdout",
     "output_type": "stream",
     "text": [
      "PI = 3.1415 and area = 314.15000000000003\n"
     ]
    }
   ],
   "source": [
    "print(\"PI = {} and area = {}\".format(PI, PI*radius**2))"
   ]
  },
  {
   "cell_type": "code",
   "execution_count": 14,
   "metadata": {},
   "outputs": [
    {
     "name": "stdout",
     "output_type": "stream",
     "text": [
      "PI = 3.14 and area = 314.1500\n"
     ]
    }
   ],
   "source": [
    "print(\"PI = {:.2f} and area = {:.4f}\".format(PI, PI*radius**2))"
   ]
  },
  {
   "cell_type": "code",
   "execution_count": 16,
   "metadata": {},
   "outputs": [
    {
     "name": "stdout",
     "output_type": "stream",
     "text": [
      "PI = 3.14 and area = 314.1500\n"
     ]
    }
   ],
   "source": [
    "print(\"PI = {0:.2f} and area = {1:.4f}\".format(PI, PI*radius**2))"
   ]
  },
  {
   "cell_type": "code",
   "execution_count": 21,
   "metadata": {},
   "outputs": [
    {
     "name": "stdout",
     "output_type": "stream",
     "text": [
      "f\n",
      "f\n"
     ]
    }
   ],
   "source": [
    "hexNum = 15\n",
    "print(\"%x\" %hexNum)\n",
    "print(\"{:x}\".format(hexNum))"
   ]
  },
  {
   "cell_type": "markdown",
   "metadata": {},
   "source": [
    "# Using f-strings"
   ]
  },
  {
   "cell_type": "code",
   "execution_count": 22,
   "metadata": {},
   "outputs": [
    {
     "name": "stdout",
     "output_type": "stream",
     "text": [
      "Mercury is a rocky planet while Jupiter is a gas giant.\n"
     ]
    }
   ],
   "source": [
    "rock_planet = \"Mercury\"\n",
    "gas_planet = \"Jupiter\"\n",
    "\n",
    "print(f\"{rock_planet} is a rocky planet while {gas_planet} is\\\n",
    " a gas giant.\")"
   ]
  },
  {
   "cell_type": "code",
   "execution_count": 23,
   "metadata": {},
   "outputs": [
    {
     "name": "stdout",
     "output_type": "stream",
     "text": [
      "Mercury is a rocky planet while Jupiter is a gas giant.\n"
     ]
    }
   ],
   "source": [
    "rock_planet = \"mercury\"\n",
    "gas_planet = \"jupiter\"\n",
    "\n",
    "print(f\"{rock_planet.title()} is a rocky planet while \\\n",
    "{gas_planet.title()} is a gas giant.\")"
   ]
  },
  {
   "cell_type": "code",
   "execution_count": 24,
   "metadata": {},
   "outputs": [
    {
     "name": "stdout",
     "output_type": "stream",
     "text": [
      "Mercury, Venus, Earth, and Mars are rocky planets, Jupiter and Saturn are gas giants, and Uranus and Neptune are ice giants. "
     ]
    }
   ],
   "source": [
    "rock_planets = [\"Mercury\", \"Venus\", \"Earth\", \"Mars\"]\n",
    "gas_planets = [\"Jupiter\", \"Saturn\"]\n",
    "ice_planets = [\"Uranus\", \"Neptune\"]\n",
    "\n",
    "for planet in rock_planets[:-1]:\n",
    "    print(f\"{planet},\", end = ' ')\n",
    "    \n",
    "print(f\"and {rock_planets[-1]} are rocky planets,\", end = ' ')\n",
    "\n",
    "for planet in gas_planets[:-1]:\n",
    "    print(f\"{planet}\", end = ' ')\n",
    "    \n",
    "print(f\"and {gas_planets[-1]} are gas giants, and\", end = ' ')\n",
    "\n",
    "for planet in ice_planets[:-1]:\n",
    "    print(f\"{planet}\" , end = ' ')\n",
    "    \n",
    "print(f\"and {ice_planets[-1]} are ice giants.\", end = ' ')\n"
   ]
  },
  {
   "cell_type": "code",
   "execution_count": 25,
   "metadata": {},
   "outputs": [
    {
     "name": "stdout",
     "output_type": "stream",
     "text": [
      "Here is your total: $0.20\n"
     ]
    }
   ],
   "source": [
    "var = 0.2\n",
    "print(f\"Here is your total: ${var:.2f}\")"
   ]
  },
  {
   "cell_type": "markdown",
   "metadata": {},
   "source": [
    "# Now test your understanding"
   ]
  },
  {
   "cell_type": "markdown",
   "metadata": {},
   "source": [
    "1. Ask the user to input a name and an integer number. Then print the name, the number and the square root of the number upto four decimal places using:\n",
    "\n",
    "    a) format specifiers\n",
    "    \n",
    "    b) format() method\n",
    "    \n",
    "    c) f-String"
   ]
  },
  {
   "cell_type": "code",
   "execution_count": null,
   "metadata": {},
   "outputs": [],
   "source": [
    "user_name = input(\"Enter a name: \")\n",
    "user_number = int(input(\"Enter a whole number: \"))\n",
    "\n",
    "print(\"Username is %s\" %user_name )\n",
    "print(\"The whole number is %d\" %user_number)\n",
    "print(\"The square root of the number above is: %.4f\" %user_number ** (1/2))"
   ]
  },
  {
   "cell_type": "code",
   "execution_count": null,
   "metadata": {},
   "outputs": [],
   "source": [
    "user_name = input(\"Enter a name: \")\n",
    "user_number = int(input(\"Enter a whole number: \"))\n",
    "\n",
    "print(\"Username is {}\".format(user_name) )\n",
    "print(\"The whole number is {}\".format(user_number))\n",
    "print(\"The square root of the number above is: {:.4f}\".format(user_number ** (1/2)))"
   ]
  },
  {
   "cell_type": "code",
   "execution_count": null,
   "metadata": {},
   "outputs": [],
   "source": [
    "user_name = input(\"Enter a name: \")\n",
    "user_number = int(input(\"Enter a whole number: \"))\n",
    "\n",
    "print(f\"Username is {user_name}\")\n",
    "print(f\"The whole number is {user_number}\")\n",
    "print(f\"The square root of the number above is: {user_number ** (1/2):.4f}\")"
   ]
  },
  {
   "cell_type": "code",
   "execution_count": null,
   "metadata": {},
   "outputs": [],
   "source": []
  }
 ],
 "metadata": {
  "kernelspec": {
   "display_name": "Python 3",
   "language": "python",
   "name": "python3"
  },
  "language_info": {
   "codemirror_mode": {
    "name": "ipython",
    "version": 3
   },
   "file_extension": ".py",
   "mimetype": "text/x-python",
   "name": "python",
   "nbconvert_exporter": "python",
   "pygments_lexer": "ipython3",
   "version": "3.7.3"
  }
 },
 "nbformat": 4,
 "nbformat_minor": 2
}

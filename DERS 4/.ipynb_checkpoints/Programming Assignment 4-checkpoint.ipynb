{
 "cells": [
  {
   "cell_type": "markdown",
   "metadata": {},
   "source": [
    "### Programming Assignment 4"
   ]
  },
  {
   "cell_type": "code",
   "execution_count": null,
   "metadata": {},
   "outputs": [],
   "source": [
    "#Name:Sezer Aktas Turan"
   ]
  },
  {
   "cell_type": "markdown",
   "metadata": {},
   "source": [
    "1. Perform the following operations on numbersList = [-11, -4, 5, 12, 13, 14, 19]\n",
    "   \n",
    "    a) Ask the user to enter a number to add to the list. Append the number to the list if the number does not already exist in the list. If the number already exists in the list notify the user.\n",
    "   \n",
    "    b) Improve your code by using a loop. Keep asking the user for a new element to add to the list until appending is done successfully, i.e. until the user enters a number which is not in the list. \n",
    "    \n",
    "    c) Improve your code further by adding an outer loop. Ask the user if they want to go for another round of adding an element to the list. When the user is done with adding elements, print the number of the elements in the final list. (Optional - 5 bonus points)\n",
    "    \n",
    "    (25 points)\n"
   ]
  },
  {
   "cell_type": "code",
   "execution_count": 26,
   "metadata": {},
   "outputs": [
    {
     "name": "stdout",
     "output_type": "stream",
     "text": [
      "Please enter a number to add to the list: -5\n",
      "[-11, -4, 5, 12, 13, 14, 19, -5]\n"
     ]
    }
   ],
   "source": [
    "#a)  \n",
    "numbersList = [-11, -4, 5, 12, 13, 14, 19]\n",
    "myNumber = int(input(\"Please enter a number to add to the list: \"))\n",
    "\n",
    "if numbersList.count(myNumber) == 0:\n",
    "    numbersList.append(myNumber)\n",
    "    print(numbersList)\n",
    "else:\n",
    "    print(\"The number you have entered already exists, please select another number.\")\n"
   ]
  },
  {
   "cell_type": "code",
   "execution_count": 2,
   "metadata": {},
   "outputs": [
    {
     "name": "stdout",
     "output_type": "stream",
     "text": [
      "Please enter a number to add to the list: 3\n",
      "[-11, -4, 5, 12, 13, 14, 19, 3]\n"
     ]
    }
   ],
   "source": [
    "#b)\n",
    "numbersList = [-11, -4, 5, 12, 13, 14, 19]\n",
    "myNumber = \"\"\n",
    "\n",
    "while True:\n",
    "    myNumber = int(input(\"Please enter a number to add to the list: \"))\n",
    "    if numbersList.count(myNumber) != 0:\n",
    "        print(\"The number you have entered already exists, please select another number.\")\n",
    "    else:\n",
    "        break\n",
    "\n",
    "\n",
    "numbersList.append(myNumber)\n",
    "print(numbersList)"
   ]
  },
  {
   "cell_type": "code",
   "execution_count": 6,
   "metadata": {},
   "outputs": [
    {
     "name": "stdout",
     "output_type": "stream",
     "text": [
      "Please enter a number to add to the list: 10\n",
      "[-11, -4, 5, 12, 13, 14, 19, 10]\n",
      "Do you want to have another round: type yes or no yes\n",
      "Please enter a number to add to the list: 10\n",
      "The number you have entered already exists, please select another number.\n",
      "Please enter a number to add to the list: 15\n",
      "[-11, -4, 5, 12, 13, 14, 19, 10, 15]\n",
      "Do you want to have another round: type yes or no yws\n",
      "Please enter a number to add to the list: 15\n",
      "The number you have entered already exists, please select another number.\n",
      "Please enter a number to add to the list: 33\n",
      "[-11, -4, 5, 12, 13, 14, 19, 10, 15, 33]\n",
      "Do you want to have another round: type yes or no no\n"
     ]
    }
   ],
   "source": [
    "#c)\n",
    "\n",
    "numbersList = [-11, -4, 5, 12, 13, 14, 19]\n",
    "myNumber = \"\"\n",
    "\n",
    "another_round = True\n",
    "\n",
    "\n",
    "while another_round:\n",
    "    while True:\n",
    "        myNumber = int(input(\"Please enter a number to add to the list: \"))\n",
    "        if numbersList.count(myNumber) != 0:\n",
    "            print(\"The number you have entered already exists, please select another number.\")\n",
    "        else:\n",
    "            numbersList.append(myNumber)\n",
    "            print(numbersList)                \n",
    "            break\n",
    "    again = str(input(\"Do you want to have another round: type yes or no \"))\n",
    "    if again == \"no\":\n",
    "        another_round = False\n",
    "        \n"
   ]
  },
  {
   "cell_type": "code",
   "execution_count": 5,
   "metadata": {},
   "outputs": [],
   "source": [
    "#Please do not edit this cell"
   ]
  },
  {
   "cell_type": "markdown",
   "metadata": {},
   "source": [
    "2. Perform the following operations on numbersList = [-11, -4, 5, 12, 13, 14, 19]\n",
    "    \n",
    "    a) Ask the user for an index number. Check to see if the index is in the range. If it is, pop the element at that index. Print the popped element as well as the list. If the index is out of range notify the user.\n",
    "    \n",
    "    b) Improve your code by using a loop. Keep asking the user for an index until popping is done successfully, i.e. the user enters an index which is in the range. \n",
    "    \n",
    "    c) Improve your code further by adding an outer loop. Ask the user if they want to go for another round of removing elements from the list. When the user is done removing elements from the list, convert the final list to a tuple and print it out. (Optional - 5 bonus points)\n",
    "    \n",
    "    (25 points)\n"
   ]
  },
  {
   "cell_type": "code",
   "execution_count": 1,
   "metadata": {},
   "outputs": [
    {
     "name": "stdout",
     "output_type": "stream",
     "text": [
      "Please specify an index number: 1\n",
      "-4 \n",
      " [-11, 5, 12, 13, 14, 19]\n"
     ]
    }
   ],
   "source": [
    "#a)\n",
    "numbersList = [-11, -4, 5, 12, 13, 14, 19]\n",
    "myIndex = int(input(\"Please specify an index number: \"))\n",
    "\n",
    "if myIndex in range(-(len(numbersList)), len(numbersList)):\n",
    "    print(numbersList.pop(myIndex), \"\\n\",(numbersList))\n",
    "else:\n",
    "    print(\"You have entered an index out of range\")\n"
   ]
  },
  {
   "cell_type": "code",
   "execution_count": 2,
   "metadata": {},
   "outputs": [
    {
     "name": "stdout",
     "output_type": "stream",
     "text": [
      "Please specify an index number: 1\n",
      "-4 \n",
      " [-11, 5, 12, 13, 14, 19]\n"
     ]
    }
   ],
   "source": [
    "#b)\n",
    "numbersList = [-11, -4, 5, 12, 13, 14, 19]\n",
    "myIndex = \"\"\n",
    "\n",
    "while True:\n",
    "    myIndex = int(input(\"Please specify an index number: \"))\n",
    "    if myIndex not in range(-(len(numbersList)), len(numbersList)):\n",
    "        print(\"You have entered an index out of range\")\n",
    "    else:\n",
    "        break\n",
    "print(numbersList.pop(myIndex), \"\\n\",(numbersList))      "
   ]
  },
  {
   "cell_type": "code",
   "execution_count": 7,
   "metadata": {},
   "outputs": [
    {
     "name": "stdout",
     "output_type": "stream",
     "text": [
      "Please specify an index number: 1\n",
      "-4 \n",
      " (-11, 5, 12, 13, 14, 19)\n",
      "Do you want to have another round: type yes or no yes\n",
      "Please specify an index number: 2\n",
      "12 \n",
      " (-11, 5, 13, 14, 19)\n",
      "Do you want to have another round: type yes or no no\n"
     ]
    }
   ],
   "source": [
    "#c)\n",
    "numbersList = [-11, -4, 5, 12, 13, 14, 19]\n",
    "myIndex = \"\"\n",
    "another_round = True\n",
    "\n",
    "while another_round:\n",
    "    while True:\n",
    "        myIndex = int(input(\"Please specify an index number: \"))\n",
    "        if myIndex not in range(-(len(numbersList)), len(numbersList)):\n",
    "            print(\"You have entered an index out of range\")\n",
    "        else:\n",
    "            print(numbersList.pop(myIndex), \"\\n\",(tuple(numbersList))) \n",
    "            break\n",
    "    again = str(input(\"Do you want to have another round: type yes or no \"))\n",
    "    if again == \"no\":\n",
    "        another_round = False       \n",
    "    \n"
   ]
  },
  {
   "cell_type": "code",
   "execution_count": null,
   "metadata": {},
   "outputs": [],
   "source": [
    "#Please do not edit this cell"
   ]
  },
  {
   "cell_type": "markdown",
   "metadata": {},
   "source": [
    "3. a) Write a function named concatTuples(t1, t2) that concatenates two tuples t1 and t2 and returns the concatenated tuple.\n",
    "\n",
    "    b) Test your function with numbersTuple1 = (4, 5, 6) and numbersTuple2 = (7,). Store the result in numbersTuple3. Print the number of elements in numbersTuple3\n",
    "\n",
    "    c) Without creating a new tuple, is it possible to append 7 to numbersTuple1? If not, explain why.\n",
    "    \n",
    "    (25 points)\n"
   ]
  },
  {
   "cell_type": "code",
   "execution_count": null,
   "metadata": {},
   "outputs": [],
   "source": [
    "#a)\n",
    "def concatTuples(t1, t2):\n",
    "    return t1 + t2\n"
   ]
  },
  {
   "cell_type": "code",
   "execution_count": null,
   "metadata": {},
   "outputs": [],
   "source": [
    "#b)\n",
    "\n",
    "def concatTuples(t1, t2):\n",
    "    return t1 + t2\n",
    "\n",
    "Tuple1 = (4, 5, 6)\n",
    "Tuple2 = (7,)\n",
    "\n",
    "Tuple3 = (concatTuples(Tuple1, Tuple2))\n",
    "print(len(Tuple3))"
   ]
  },
  {
   "cell_type": "code",
   "execution_count": null,
   "metadata": {},
   "outputs": [],
   "source": [
    "#c) \n",
    "'''\n",
    "Since the tuples are immutable data structures, once they are created, they cannot be changed.\n",
    "Therefore, it is not possible to append 7 to numbers in Tuple1. \n",
    "\n",
    "'''"
   ]
  },
  {
   "cell_type": "code",
   "execution_count": null,
   "metadata": {},
   "outputs": [],
   "source": [
    "#Please do not edit this cell"
   ]
  },
  {
   "cell_type": "markdown",
   "metadata": {},
   "source": [
    "4. \n",
    "    a) Create a dictionary with 5 to 10 key-values so that state is the key and its capital is the value. Print the dictionary and its length.\n",
    "    \n",
    "    b) Create and print a list of states and a list of capitals.\n",
    "    \n",
    "    c) Ask the user for a state's name. Check to see if the state's name exists in the list of states. If it does, look up the state's name in the dictionary and print out its capital. If it doesn't notify the user.\n",
    "    \n",
    "    (25 points)\n",
    " "
   ]
  },
  {
   "cell_type": "code",
   "execution_count": 42,
   "metadata": {},
   "outputs": [
    {
     "name": "stdout",
     "output_type": "stream",
     "text": [
      "{'Arizona': 'Phoenix', 'California': 'Sacramento', 'Idaho': 'Boise', 'Kansas': 'Topeka', 'Ohio': 'Columbus', 'Virginia': 'Richmond', 'Georgia': 'Atlanta'}, 7\n"
     ]
    }
   ],
   "source": [
    "#a)\n",
    "\n",
    "States_Capitals = {'Arizona':'Phoenix', 'California':'Sacramento', 'Idaho':'Boise', \n",
    "                   'Kansas':'Topeka','Ohio':'Columbus', 'Virginia':'Richmond', 'Georgia':'Atlanta'}\n",
    "\n",
    "print(\"%s, %d\" % (States_Capitals,len(States_Capitals)))\n"
   ]
  },
  {
   "cell_type": "code",
   "execution_count": 2,
   "metadata": {},
   "outputs": [
    {
     "name": "stdout",
     "output_type": "stream",
     "text": [
      "['Arizona', 'California', 'Idaho', 'Kansas', 'Ohio', 'Virginia', 'Georgia'] \n",
      " ['Phoenix', 'Sacramento', 'Boise', 'Topeka', 'Columbus', 'Richmond', 'Atlanta']\n"
     ]
    }
   ],
   "source": [
    "#b)\n",
    "States_Capitals = {'Arizona':'Phoenix', 'California':'Sacramento', 'Idaho':'Boise', \n",
    "                   'Kansas':'Topeka','Ohio':'Columbus', 'Virginia':'Richmond', 'Georgia':'Atlanta'}\n",
    "\n",
    "States = list(States_Capitals.keys())\n",
    "\n",
    "Capitals = list(States_Capitals.values())\n",
    "\n",
    "print(States, \"\\n\", Capitals)"
   ]
  },
  {
   "cell_type": "code",
   "execution_count": 5,
   "metadata": {},
   "outputs": [
    {
     "name": "stdout",
     "output_type": "stream",
     "text": [
      "Please select a state name: Arizona\n",
      "Phoenix\n"
     ]
    }
   ],
   "source": [
    "#c)\n",
    "States_Capitals = {'Arizona':'Phoenix', 'California':'Sacramento', 'Idaho':'Boise', \n",
    "                   'Kansas':'Topeka','Ohio':'Columbus', 'Virginia':'Richmond', 'Georgia':'Atlanta'}\n",
    "\n",
    "\n",
    "States = list(States_Capitals.keys())\n",
    "\n",
    "myState = input(\"Please select a state name: \")\n",
    "\n",
    "if myState in States:\n",
    "    for x, y in States_Capitals.items():\n",
    "        if x == myState:\n",
    "            print(y)\n",
    "else:\n",
    "    print(\"The state you have entered is not in the list!\")\n"
   ]
  },
  {
   "cell_type": "code",
   "execution_count": 9,
   "metadata": {},
   "outputs": [],
   "source": [
    "#Please do not edit this cell"
   ]
  },
  {
   "cell_type": "code",
   "execution_count": null,
   "metadata": {},
   "outputs": [],
   "source": []
  }
 ],
 "metadata": {
  "kernelspec": {
   "display_name": "Python 3 (ipykernel)",
   "language": "python",
   "name": "python3"
  },
  "language_info": {
   "codemirror_mode": {
    "name": "ipython",
    "version": 3
   },
   "file_extension": ".py",
   "mimetype": "text/x-python",
   "name": "python",
   "nbconvert_exporter": "python",
   "pygments_lexer": "ipython3",
   "version": "3.8.12"
  }
 },
 "nbformat": 4,
 "nbformat_minor": 2
}

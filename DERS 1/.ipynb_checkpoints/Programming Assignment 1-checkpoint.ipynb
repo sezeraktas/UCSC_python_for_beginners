{
 "cells": [
  {
   "cell_type": "markdown",
   "metadata": {},
   "source": [
    "## Programming Assignment 1"
   ]
  },
  {
   "cell_type": "code",
   "execution_count": null,
   "metadata": {},
   "outputs": [],
   "source": [
    "# Name: Sezer Aktas Turan"
   ]
  },
  {
   "attachments": {
    "image.png": {
     "image/png": "[encoded data removed]"
    }
   },
   "cell_type": "markdown",
   "metadata": {},
   "source": [
    "1. Write 5 print statements so that your name appears on the middle row inside a box. To start use the following code. Make sure the box fits snugly around your name - you may have to make the box wider or narrower. For example:\n",
    "\n",
    "    ![image.png](attachment:image.png)\n",
    "    \n",
    "    (25 points)\n",
    "    "
   ]
  },
  {
   "cell_type": "code",
   "execution_count": 1,
   "metadata": {},
   "outputs": [
    {
     "name": "stdout",
     "output_type": "stream",
     "text": [
      "+-------------+\n",
      "|             |\n",
      "|    Sezer    |\n",
      "|             |\n",
      "+-------------+\n"
     ]
    }
   ],
   "source": [
    "print(\"+-------------+\")\n",
    "print(\"|             |\")\n",
    "print(\"|    Sezer    |\")\n",
    "print(\"|             |\")\n",
    "print(\"+-------------+\")"
   ]
  },
  {
   "cell_type": "markdown",
   "metadata": {},
   "source": [
    "2. Using the following code, write code to assign the variable cpy to have the same value that variable msg has. \n",
    "\n",
    "    Note: Do not change the first line of code (msg = \"Hello\"). Also, do not “hard code” the result by setting cpy = \"Hello\". Instead, write code that would work no matter what the current value of msg is.\n",
    "    \n",
    "    (25 points)"
   ]
  },
  {
   "cell_type": "code",
   "execution_count": 3,
   "metadata": {},
   "outputs": [
    {
     "name": "stdout",
     "output_type": "stream",
     "text": [
      "Hello\n"
     ]
    }
   ],
   "source": [
    "msg = \"Hello\"\n",
    "cpy = 0\n",
    "cpy = msg\n",
    "print(cpy)"
   ]
  },
  {
   "cell_type": "markdown",
   "metadata": {},
   "source": [
    "3. Add only one print statement to the following code so that it adds two numbers a and b and displays the result. Then modify the code so that it displays:\n",
    "\n",
    "    This program adds two numbers, 7 and 6: \n",
    "    \n",
    "    and prints the new value.\n",
    "    \n",
    "    (25 points)"
   ]
  },
  {
   "cell_type": "code",
   "execution_count": 1,
   "metadata": {},
   "outputs": [
    {
     "name": "stdout",
     "output_type": "stream",
     "text": [
      "This program adds two numbers 7 and 6 : 13\n"
     ]
    }
   ],
   "source": [
    "a = 7\n",
    "b = 6\n",
    "result = a + b\n",
    "print(\"This program adds two numbers\", a, \"and\", b, \":\", result)\n"
   ]
  },
  {
   "cell_type": "markdown",
   "metadata": {},
   "source": [
    "4. Define a constant to be -5 and a variable to be 100. Use variable naming conventions.\n",
    "\n",
    "    Multiply the constant by the variable. Then assign it to another variable named result. Print the value of variable result. (25 points)"
   ]
  },
  {
   "cell_type": "code",
   "execution_count": 13,
   "metadata": {},
   "outputs": [
    {
     "name": "stdout",
     "output_type": "stream",
     "text": [
      "-500\n"
     ]
    }
   ],
   "source": [
    "CONS = -5\n",
    "myVariable = 100\n",
    "result = print(CONS * myVariable)"
   ]
  },
  {
   "cell_type": "code",
   "execution_count": null,
   "metadata": {},
   "outputs": [],
   "source": []
  }
 ],
 "metadata": {
  "kernelspec": {
   "display_name": "Python 3 (ipykernel)",
   "language": "python",
   "name": "python3"
  },
  "language_info": {
   "codemirror_mode": {
    "name": "ipython",
    "version": 3
   },
   "file_extension": ".py",
   "mimetype": "text/x-python",
   "name": "python",
   "nbconvert_exporter": "python",
   "pygments_lexer": "ipython3",
   "version": "3.8.12"
  }
 },
 "nbformat": 4,
 "nbformat_minor": 2
}

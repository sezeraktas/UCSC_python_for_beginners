{
 "cells": [
  {
   "cell_type": "markdown",
   "metadata": {},
   "source": [
    "# Python Modules"
   ]
  },
  {
   "cell_type": "code",
   "execution_count": null,
   "metadata": {},
   "outputs": [],
   "source": [
    "help(\"modules\")"
   ]
  },
  {
   "cell_type": "markdown",
   "metadata": {},
   "source": [
    "## Math Module"
   ]
  },
  {
   "cell_type": "code",
   "execution_count": null,
   "metadata": {},
   "outputs": [],
   "source": [
    "# importing math module\n",
    "import math"
   ]
  },
  {
   "cell_type": "code",
   "execution_count": null,
   "metadata": {},
   "outputs": [],
   "source": [
    "?math"
   ]
  },
  {
   "cell_type": "code",
   "execution_count": null,
   "metadata": {},
   "outputs": [],
   "source": [
    "?math.pow"
   ]
  },
  {
   "cell_type": "code",
   "execution_count": null,
   "metadata": {},
   "outputs": [],
   "source": [
    "# Accessing functions from math module\n",
    "print(math.pow(3,4))\n",
    "print(math.sqrt(121))\n",
    "print(math.fabs(-5.3))\n",
    "print(math.factorial(5))"
   ]
  },
  {
   "cell_type": "code",
   "execution_count": null,
   "metadata": {},
   "outputs": [],
   "source": [
    "print(math.floor(2.6))\n",
    "print(math.ceil(2.6))\n",
    "print(math.floor(-2.6))\n",
    "print(math.ceil(-2.6))"
   ]
  },
  {
   "cell_type": "code",
   "execution_count": null,
   "metadata": {},
   "outputs": [],
   "source": [
    "# pi constant\n",
    "import math\n",
    "radius = 10\n",
    "area = math.pi * math.pow(radius,2)\n",
    "print(\"The area is \", area) "
   ]
  },
  {
   "cell_type": "code",
   "execution_count": null,
   "metadata": {},
   "outputs": [],
   "source": [
    "print(math.pi)"
   ]
  },
  {
   "cell_type": "code",
   "execution_count": null,
   "metadata": {},
   "outputs": [],
   "source": [
    "math.pi = 12    # math.pi is changeable!!! \n",
    "print(math.pi)  # Note if you restart the kernel and re-import math \n",
    "                # it resets math.pi back to 3.14159..."
   ]
  },
  {
   "cell_type": "markdown",
   "metadata": {},
   "source": [
    "## Random Module"
   ]
  },
  {
   "cell_type": "code",
   "execution_count": null,
   "metadata": {},
   "outputs": [],
   "source": [
    "# importing random\n",
    "import random"
   ]
  },
  {
   "cell_type": "code",
   "execution_count": null,
   "metadata": {},
   "outputs": [],
   "source": [
    "?random"
   ]
  },
  {
   "cell_type": "code",
   "execution_count": null,
   "metadata": {},
   "outputs": [],
   "source": [
    "?random.random"
   ]
  },
  {
   "cell_type": "code",
   "execution_count": null,
   "metadata": {},
   "outputs": [],
   "source": [
    "# calling random() function\n",
    "print(random.random())\n",
    "\n",
    "# scaling with scale factor 100\n",
    "print(random.random()*100)\n",
    "\n",
    "# random integers between 0 and 100\n",
    "print(int(random.random()*100))\n",
    "\n",
    "# scaling and shifting to get random numbers between 50 and 60\n",
    "print(int(random.random()*10) +  50)"
   ]
  },
  {
   "cell_type": "code",
   "execution_count": null,
   "metadata": {},
   "outputs": [],
   "source": [
    "rand = random.random()*100\n",
    "print(rand)\n",
    "\n",
    "rand = int(rand)\n",
    "print(rand)"
   ]
  },
  {
   "cell_type": "code",
   "execution_count": null,
   "metadata": {},
   "outputs": [],
   "source": [
    "?random.randrange"
   ]
  },
  {
   "cell_type": "code",
   "execution_count": null,
   "metadata": {},
   "outputs": [],
   "source": [
    "# Using randrange() to pick a number from a range. Several variations\n",
    "# Variations to pick a number between 0 up to (but not including)6\n",
    "print(random.randrange(6))\n",
    "print(random.randrange(0,6))\n",
    "print(random.randrange(0,6,1))\n",
    "\n",
    "# prints a random even integer between 2 and 10, inclusive\n",
    "print(random.randrange(2,12,2))"
   ]
  },
  {
   "cell_type": "code",
   "execution_count": null,
   "metadata": {},
   "outputs": [],
   "source": [
    "# roll a die\n",
    "print(random.randrange(1, 7))"
   ]
  },
  {
   "cell_type": "code",
   "execution_count": null,
   "metadata": {},
   "outputs": [],
   "source": [
    "?random.choice"
   ]
  },
  {
   "cell_type": "code",
   "execution_count": null,
   "metadata": {},
   "outputs": [],
   "source": [
    "# using choice() on iterable objects\n",
    "import random\n",
    "numbersList = [12, 14, 19]\n",
    "numbersTuple = (12, 14, 19)\n",
    "print(random.choice(numbersList)) \n",
    "print(random.choice(numbersTuple))"
   ]
  },
  {
   "cell_type": "code",
   "execution_count": null,
   "metadata": {},
   "outputs": [],
   "source": [
    "# flip a coin\n",
    "print(random.choice(['Heads','Tails']))"
   ]
  },
  {
   "cell_type": "code",
   "execution_count": null,
   "metadata": {},
   "outputs": [],
   "source": [
    "?random.shuffle"
   ]
  },
  {
   "cell_type": "code",
   "execution_count": null,
   "metadata": {},
   "outputs": [],
   "source": [
    "# Using shuffle to randomize a list\n",
    "import random\n",
    "\n",
    "# First use a manually generated list\n",
    "list1 = [1,2,3,4,5,6]\n",
    "random.shuffle(list1)\n",
    "print(list1)\n",
    "\n",
    "# Now build a list from a range and shuffle it.\n",
    "list2 = list(range(1,7))\n",
    "print(list2)\n",
    "random.shuffle(list2)\n",
    "print(list2)"
   ]
  },
  {
   "cell_type": "markdown",
   "metadata": {},
   "source": [
    "## Time"
   ]
  },
  {
   "cell_type": "code",
   "execution_count": null,
   "metadata": {},
   "outputs": [],
   "source": [
    "import time"
   ]
  },
  {
   "cell_type": "code",
   "execution_count": null,
   "metadata": {},
   "outputs": [],
   "source": [
    "?time.time"
   ]
  },
  {
   "cell_type": "code",
   "execution_count": null,
   "metadata": {},
   "outputs": [],
   "source": [
    "# time.time()\n",
    "# returns time past since epoch time which is: 12:00:00 Jan 1, 1970\n",
    "print(time.time())\n",
    "print(time.gmtime(0))"
   ]
  },
  {
   "cell_type": "code",
   "execution_count": null,
   "metadata": {},
   "outputs": [],
   "source": [
    "?time.localtime"
   ]
  },
  {
   "cell_type": "code",
   "execution_count": null,
   "metadata": {},
   "outputs": [],
   "source": [
    "# generates local formatted time\n",
    "print(time.localtime())"
   ]
  },
  {
   "cell_type": "code",
   "execution_count": null,
   "metadata": {},
   "outputs": [],
   "source": [
    "?time.asctime"
   ]
  },
  {
   "cell_type": "code",
   "execution_count": null,
   "metadata": {},
   "outputs": [],
   "source": [
    "# Converts a time tuple to a string. When the time tuple is not \n",
    "# present, current time as returned by localtime() is used.\n",
    "print(time.asctime())"
   ]
  },
  {
   "cell_type": "markdown",
   "metadata": {},
   "source": [
    "time.tzname returns a tuple of two strings: the first is the name of the local non-DST timezone, the second is the name of the local DST timezone. If no DST timezone is defined, the second string should not be used."
   ]
  },
  {
   "cell_type": "code",
   "execution_count": null,
   "metadata": {},
   "outputs": [],
   "source": [
    "?time.tzname"
   ]
  },
  {
   "cell_type": "code",
   "execution_count": null,
   "metadata": {},
   "outputs": [],
   "source": [
    "print(\"Time zone  is\", time.tzname) # Info on local time zone"
   ]
  },
  {
   "cell_type": "code",
   "execution_count": null,
   "metadata": {},
   "outputs": [],
   "source": [
    "?time.sleep"
   ]
  },
  {
   "cell_type": "code",
   "execution_count": null,
   "metadata": {},
   "outputs": [],
   "source": [
    "# sleep just sleeps\n",
    "print(\"hello\", end=\" \")\n",
    "time.sleep(5)\n",
    "print(\"there\")"
   ]
  },
  {
   "cell_type": "markdown",
   "metadata": {},
   "source": [
    "## Timeit"
   ]
  },
  {
   "cell_type": "code",
   "execution_count": null,
   "metadata": {},
   "outputs": [],
   "source": [
    "import timeit"
   ]
  },
  {
   "cell_type": "code",
   "execution_count": null,
   "metadata": {},
   "outputs": [],
   "source": [
    "?timeit.timeit"
   ]
  },
  {
   "cell_type": "code",
   "execution_count": null,
   "metadata": {},
   "outputs": [],
   "source": [
    "# pow function\n",
    "import math\n",
    "import timeit\n",
    "\n",
    "print(\"Differences between math.pow(3,4), built-in pow(3,4) and 3**4:\")\n",
    "# math module's function\n",
    "print(\"math.pow(3,4): \", math.pow(3,4)) \n",
    "# Python's built-in mathematical funtion\n",
    "print(\"pow(3,4): \", pow(3,4))\n",
    "# Using operator **\n",
    "print(\"3**4: \", 3 ** 4)\n",
    "\n",
    "# let's try timing them. \n",
    "# Note how timeit() works: \n",
    "# https://www.geeksforgeeks.org/timeit-python-examples/\n",
    "print(timeit.timeit(\"math.pow(2, 100)\", \"import math\"))\n",
    "print(timeit.timeit(\"pow(2, 100)\")) \n",
    "print(timeit.timeit(\"2 ** 100\"))"
   ]
  },
  {
   "cell_type": "code",
   "execution_count": null,
   "metadata": {},
   "outputs": [],
   "source": [
    "t1 = time.time()\n",
    "math.pow(2,100)\n",
    "t2 = time.time()\n",
    "pow(2,100)\n",
    "t3 = time.time()\n",
    "2 ** 100\n",
    "t4 = time.time()\n",
    "\n",
    "print((t2 - t1)*1000000)\n",
    "print((t3 - t2)*1000000)\n",
    "print((t4 - t3)*1000000)"
   ]
  },
  {
   "cell_type": "markdown",
   "metadata": {},
   "source": [
    "## DateTime"
   ]
  },
  {
   "cell_type": "code",
   "execution_count": null,
   "metadata": {},
   "outputs": [],
   "source": [
    "import datetime"
   ]
  },
  {
   "cell_type": "code",
   "execution_count": null,
   "metadata": {},
   "outputs": [],
   "source": [
    "?datetime.time"
   ]
  },
  {
   "cell_type": "code",
   "execution_count": null,
   "metadata": {},
   "outputs": [],
   "source": [
    "print(datetime.time())"
   ]
  },
  {
   "cell_type": "code",
   "execution_count": null,
   "metadata": {},
   "outputs": [],
   "source": [
    "print(datetime.time(12,30,0))"
   ]
  },
  {
   "cell_type": "code",
   "execution_count": null,
   "metadata": {},
   "outputs": [],
   "source": [
    "?datetime.date"
   ]
  },
  {
   "cell_type": "code",
   "execution_count": null,
   "metadata": {},
   "outputs": [],
   "source": [
    "print(datetime.date(2019,2,21))"
   ]
  },
  {
   "cell_type": "markdown",
   "metadata": {},
   "source": [
    "## Using from"
   ]
  },
  {
   "cell_type": "code",
   "execution_count": 1,
   "metadata": {},
   "outputs": [
    {
     "name": "stdout",
     "output_type": "stream",
     "text": [
      "10.04987562112089\n"
     ]
    }
   ],
   "source": [
    "# importing in a way that you can use the functions without the module's name\n",
    "from math import sqrt\n",
    "print(sqrt(101))"
   ]
  },
  {
   "cell_type": "code",
   "execution_count": 2,
   "metadata": {},
   "outputs": [
    {
     "ename": "NameError",
     "evalue": "name 'math' is not defined",
     "output_type": "error",
     "traceback": [
      "\u001b[0;31m---------------------------------------------------------------------------\u001b[0m",
      "\u001b[0;31mNameError\u001b[0m                                 Traceback (most recent call last)",
      "\u001b[0;32m<ipython-input-2-c0ce9bcf0b75>\u001b[0m in \u001b[0;36m<module>\u001b[0;34m\u001b[0m\n\u001b[0;32m----> 1\u001b[0;31m \u001b[0mprint\u001b[0m\u001b[0;34m(\u001b[0m\u001b[0mmath\u001b[0m\u001b[0;34m.\u001b[0m\u001b[0mfloor\u001b[0m\u001b[0;34m(\u001b[0m\u001b[0;36m4.4\u001b[0m\u001b[0;34m)\u001b[0m\u001b[0;34m)\u001b[0m \u001b[0;31m# Gives nameError\u001b[0m\u001b[0;34m\u001b[0m\u001b[0;34m\u001b[0m\u001b[0m\n\u001b[0m",
      "\u001b[0;31mNameError\u001b[0m: name 'math' is not defined"
     ]
    }
   ],
   "source": [
    "print(math.floor(4.4)) # Gives nameError"
   ]
  },
  {
   "cell_type": "code",
   "execution_count": 3,
   "metadata": {},
   "outputs": [
    {
     "name": "stdout",
     "output_type": "stream",
     "text": [
      "4\n"
     ]
    }
   ],
   "source": [
    "from math import *\n",
    "print(floor(4.4))"
   ]
  },
  {
   "cell_type": "code",
   "execution_count": 4,
   "metadata": {},
   "outputs": [
    {
     "data": {
      "text/plain": [
       "3.141592653589793"
      ]
     },
     "execution_count": 4,
     "metadata": {},
     "output_type": "execute_result"
    }
   ],
   "source": [
    "pi"
   ]
  },
  {
   "cell_type": "markdown",
   "metadata": {},
   "source": [
    "### Game: Flipping a coin:"
   ]
  },
  {
   "cell_type": "code",
   "execution_count": 5,
   "metadata": {},
   "outputs": [
    {
     "name": "stdout",
     "output_type": "stream",
     "text": [
      "Type heads or tails or X to exit: tails\n",
      "Coin landed on tails. Oh boy you win!\n",
      "Type heads or tails or X to exit: heads\n",
      "Uh oh. Coin landed on tails. Better luck next time\n",
      "Type heads or tails or X to exit: heads\n",
      "Coin landed on heads. Oh boy you win!\n",
      "Type heads or tails or X to exit: heads\n",
      "Uh oh. Coin landed on tails. Better luck next time\n",
      "Type heads or tails or X to exit: tails\n",
      "Uh oh. Coin landed on heads. Better luck next time\n",
      "Type heads or tails or X to exit: X\n",
      "GAME OVER!\n"
     ]
    }
   ],
   "source": [
    "import random\n",
    "\n",
    "coin = ('heads', 'tails')\n",
    "\n",
    "while True:\n",
    "    flip = random.choice(coin)\n",
    "    your_choice = input('Type heads or tails or X to exit: ')\n",
    "    if your_choice == 'x' or your_choice == 'X':\n",
    "        print(\"GAME OVER!\")\n",
    "        break\n",
    "        \n",
    "    if your_choice == flip:\n",
    "        print('Coin landed on ' + flip + '. Oh boy you win!')\n",
    "        \n",
    "    else:\n",
    "        print(\"Uh oh. Coin landed on \" + flip + \". Better luck next time\")\n",
    "        "
   ]
  },
  {
   "cell_type": "markdown",
   "metadata": {},
   "source": [
    "### Game: Rolling a die"
   ]
  },
  {
   "cell_type": "code",
   "execution_count": 6,
   "metadata": {},
   "outputs": [
    {
     "name": "stdout",
     "output_type": "stream",
     "text": [
      "Rolling the die...\n",
      "You rolled a 3\n",
      "|------\n",
      "|    0|\n",
      "|  0  |\n",
      "|0    |\n",
      "------|\n",
      "Roll the die again? y\n",
      "Rolling the die...\n",
      "You rolled a 1\n",
      "|------\n",
      "|     |\n",
      "|  0  |\n",
      "|     |\n",
      "------|\n",
      "Roll the die again? yes\n",
      "Rolling the die...\n",
      "You rolled a 2\n",
      "|------\n",
      "| 0   |\n",
      "|     |\n",
      "|   0 |\n",
      "------|\n",
      "Roll the die again? yes\n",
      "Rolling the die...\n",
      "You rolled a 6\n",
      "|------\n",
      "|0 0 0|\n",
      "|     |\n",
      "|0 0 0|\n",
      "------|\n",
      "Roll the die again? y\n",
      "Rolling the die...\n",
      "You rolled a 5\n",
      "|------\n",
      "|0   0|\n",
      "|  0  |\n",
      "|0   0|\n",
      "------|\n",
      "Roll the die again? d\n"
     ]
    }
   ],
   "source": [
    "import random\n",
    "\n",
    "roll_again = \"yes\"\n",
    "\n",
    "while roll_again == \"yes\" or roll_again == \"y\":\n",
    "    print(\"Rolling the die...\")\n",
    "    print(\"You rolled a\", end =\" \")\n",
    "    die = random.randrange(1, 7)\n",
    "    print(die)\n",
    "    \n",
    "    if die == 1: \n",
    "        print(\"|------\") \n",
    "        print(\"|     |\") \n",
    "        print(\"|  0  |\") \n",
    "        print(\"|     |\") \n",
    "        print(\"------|\") \n",
    "    if die == 2: \n",
    "        print(\"|------\") \n",
    "        print(\"| 0   |\") \n",
    "        print(\"|     |\") \n",
    "        print(\"|   0 |\") \n",
    "        print(\"------|\") \n",
    "    if die == 3: \n",
    "        print(\"|------\") \n",
    "        print(\"|    0|\") \n",
    "        print(\"|  0  |\") \n",
    "        print(\"|0    |\") \n",
    "        print(\"------|\") \n",
    "    if die == 4: \n",
    "        print(\"|------\") \n",
    "        print(\"|0   0|\") \n",
    "        print(\"|     |\") \n",
    "        print(\"|0   0|\") \n",
    "        print(\"------|\") \n",
    "    if die == 5: \n",
    "        print(\"|------\") \n",
    "        print(\"|0   0|\") \n",
    "        print(\"|  0  |\") \n",
    "        print(\"|0   0|\") \n",
    "        print(\"------|\") \n",
    "    if die == 6: \n",
    "        print(\"|------\") \n",
    "        print(\"|0 0 0|\") \n",
    "        print(\"|     |\") \n",
    "        print(\"|0 0 0|\") \n",
    "        print(\"------|\") \n",
    "    \n",
    "    roll_again = input(\"Roll the die again? \").lower()"
   ]
  },
  {
   "cell_type": "markdown",
   "metadata": {},
   "source": [
    "## Now test your understanding"
   ]
  },
  {
   "cell_type": "markdown",
   "metadata": {},
   "source": [
    "1. Import math module and find the cosine of pi/4."
   ]
  },
  {
   "cell_type": "code",
   "execution_count": 8,
   "metadata": {},
   "outputs": [
    {
     "name": "stdout",
     "output_type": "stream",
     "text": [
      "0.7071067811865476\n"
     ]
    }
   ],
   "source": [
    "import math\n",
    "print(math.cos(pi/4))"
   ]
  },
  {
   "cell_type": "code",
   "execution_count": null,
   "metadata": {},
   "outputs": [],
   "source": []
  }
 ],
 "metadata": {
  "kernelspec": {
   "display_name": "Python 3",
   "language": "python",
   "name": "python3"
  },
  "language_info": {
   "codemirror_mode": {
    "name": "ipython",
    "version": 3
   },
   "file_extension": ".py",
   "mimetype": "text/x-python",
   "name": "python",
   "nbconvert_exporter": "python",
   "pygments_lexer": "ipython3",
   "version": "3.7.3"
  }
 },
 "nbformat": 4,
 "nbformat_minor": 2
}

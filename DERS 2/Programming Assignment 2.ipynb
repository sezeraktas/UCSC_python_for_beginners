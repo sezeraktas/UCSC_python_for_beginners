{
 "cells": [
  {
   "cell_type": "markdown",
   "metadata": {},
   "source": [
    "## Programming Assignment 2"
   ]
  },
  {
   "cell_type": "code",
   "execution_count": null,
   "metadata": {},
   "outputs": [],
   "source": [
    "# Name: Sezer Aktas Turan"
   ]
  },
  {
   "cell_type": "markdown",
   "metadata": {},
   "source": [
    "1. Write a program that computes area of a circle. Prompt the user to enter the radius. Use appropriate type conversion function to convert user input to a numerical type. Print a message with the answer. (25 points)"
   ]
  },
  {
   "cell_type": "code",
   "execution_count": 17,
   "metadata": {},
   "outputs": [
    {
     "name": "stdout",
     "output_type": "stream",
     "text": [
      "Please enter the radius of the circle: 10\n",
      "The area of the circle : 314.0\n"
     ]
    }
   ],
   "source": [
    "radius = float(input(\"Please enter the radius of the circle: \"))\n",
    "PI = 3.14\n",
    "\n",
    "def areaCircle(radius):\n",
    "    return PI * radius**2\n",
    "\n",
    "print(\"The area of the circle :\" , areaCircle(radius))\n",
    "    \n",
    "\n",
    "    "
   ]
  },
  {
   "cell_type": "code",
   "execution_count": 7,
   "metadata": {},
   "outputs": [],
   "source": [
    "#Please do not edit this cell\n"
   ]
  },
  {
   "cell_type": "markdown",
   "metadata": {},
   "source": [
    "2. Write a function areaOfCircle(r) which returns the area of a circle of radius r. Test your function by calling the function areaOfCircle(10) and storing the answer in variable result. Print a message with the value of result. (25 points)"
   ]
  },
  {
   "cell_type": "code",
   "execution_count": 18,
   "metadata": {},
   "outputs": [
    {
     "name": "stdout",
     "output_type": "stream",
     "text": [
      "The are of the circle : 314.0\n"
     ]
    }
   ],
   "source": [
    "PI = 3.14\n",
    "def areaOfCircle(r):\n",
    "    result = r**2 * PI\n",
    "    return result\n",
    "\n",
    "print(\"The are of the circle :\", areaOfCircle(10))\n",
    "    \n",
    "    "
   ]
  },
  {
   "cell_type": "code",
   "execution_count": 5,
   "metadata": {},
   "outputs": [],
   "source": [
    "#Please do not edit this cell\n"
   ]
  },
  {
   "cell_type": "markdown",
   "metadata": {},
   "source": [
    "3. Write a function FtoC(temp) that will convert degrees fahrenheit to degrees celsius. To test your function prompt the user to enter a temparature in degrees fahrenheit. Use appropriate type conversion function to convert user input to a numerical type. Then call the function and pass user's input to the function. Print a message with the answer. (25 points)"
   ]
  },
  {
   "cell_type": "code",
   "execution_count": 20,
   "metadata": {},
   "outputs": [
    {
     "name": "stdout",
     "output_type": "stream",
     "text": [
      "Please input a temperature in Fahrenheit to be converted into Celsius: 50\n",
      "The temperature in celcius is : 10.0\n"
     ]
    }
   ],
   "source": [
    "DIV = 5/9\n",
    "CONVERSION = 32\n",
    "def FtoC(temp):\n",
    "    return (temp - CONVERSION) * DIV\n",
    "\n",
    "temp = float(input(\"Please input a temperature in Fahrenheit to be converted into Celsius: \"))\n",
    "\n",
    "print(\"The temperature in celcius is :\", FtoC(temp))\n",
    "    \n",
    "    "
   ]
  },
  {
   "cell_type": "code",
   "execution_count": 8,
   "metadata": {},
   "outputs": [],
   "source": [
    "#Please do not edit this cell\n"
   ]
  },
  {
   "cell_type": "markdown",
   "metadata": {},
   "source": [
    "4. Write a function that computes MPG for a car. To test your function prompt the user to enter the number of miles driven and the number of gallons used. Use appropriate type conversion function to convert user inputs to a numerical type. Then call the function and pass user inputs to the function. Print a message with the answer. (25 points)"
   ]
  },
  {
   "cell_type": "code",
   "execution_count": 21,
   "metadata": {},
   "outputs": [
    {
     "name": "stdout",
     "output_type": "stream",
     "text": [
      "Please input the miles you have driven: 100\n",
      "Please input the number of gallons you have used: 5\n",
      "the MPG calculated is:  20.0\n"
     ]
    }
   ],
   "source": [
    "milesDriven = float(input(\"Please input the miles you have driven: \"))\n",
    "gallonsUsed = float(input(\"Please input the number of gallons you have used: \"))\n",
    "\n",
    "def MPG(milesDriven, gallonsUsed):\n",
    "    return milesDriven / gallonsUsed\n",
    "\n",
    "print(\"the MPG calculated is: \", MPG(milesDriven, gallonsUsed))"
   ]
  },
  {
   "cell_type": "code",
   "execution_count": 9,
   "metadata": {},
   "outputs": [],
   "source": [
    "#Please do not edit this cell\n"
   ]
  },
  {
   "cell_type": "code",
   "execution_count": null,
   "metadata": {},
   "outputs": [],
   "source": []
  }
 ],
 "metadata": {
  "kernelspec": {
   "display_name": "Python 3 (ipykernel)",
   "language": "python",
   "name": "python3"
  },
  "language_info": {
   "codemirror_mode": {
    "name": "ipython",
    "version": 3
   },
   "file_extension": ".py",
   "mimetype": "text/x-python",
   "name": "python",
   "nbconvert_exporter": "python",
   "pygments_lexer": "ipython3",
   "version": "3.8.12"
  }
 },
 "nbformat": 4,
 "nbformat_minor": 2
}

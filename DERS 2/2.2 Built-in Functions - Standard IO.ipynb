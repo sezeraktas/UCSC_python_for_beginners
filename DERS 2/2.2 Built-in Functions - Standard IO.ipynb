{
 "cells": [
  {
   "cell_type": "markdown",
   "metadata": {},
   "source": [
    "## Built-in Functions: Standard Input and Standard Output"
   ]
  },
  {
   "cell_type": "markdown",
   "metadata": {},
   "source": [
    "### Standard Input"
   ]
  },
  {
   "cell_type": "code",
   "execution_count": 1,
   "metadata": {},
   "outputs": [
    {
     "name": "stdout",
     "output_type": "stream",
     "text": [
      "Please enter your name: Sara\n"
     ]
    },
    {
     "data": {
      "text/plain": [
       "'Sara'"
      ]
     },
     "execution_count": 1,
     "metadata": {},
     "output_type": "execute_result"
    }
   ],
   "source": [
    "input(\"Please enter your name: \")"
   ]
  },
  {
   "cell_type": "code",
   "execution_count": 2,
   "metadata": {},
   "outputs": [
    {
     "name": "stdout",
     "output_type": "stream",
     "text": [
      "Please enter your name: Alison\n",
      "Hi Alison\n"
     ]
    }
   ],
   "source": [
    "name = input(\"Please enter your name: \")\n",
    "print(\"Hi\", name)"
   ]
  },
  {
   "cell_type": "code",
   "execution_count": 3,
   "metadata": {},
   "outputs": [
    {
     "data": {
      "text/plain": [
       "'Alison'"
      ]
     },
     "execution_count": 3,
     "metadata": {},
     "output_type": "execute_result"
    }
   ],
   "source": [
    "name"
   ]
  },
  {
   "cell_type": "code",
   "execution_count": 4,
   "metadata": {},
   "outputs": [
    {
     "data": {
      "text/plain": [
       "str"
      ]
     },
     "execution_count": 4,
     "metadata": {},
     "output_type": "execute_result"
    }
   ],
   "source": [
    "type(name)"
   ]
  },
  {
   "cell_type": "code",
   "execution_count": 5,
   "metadata": {},
   "outputs": [
    {
     "name": "stdout",
     "output_type": "stream",
     "text": [
      "What year were you born? 1950\n",
      "What year are we in now? 2020\n"
     ]
    }
   ],
   "source": [
    "yearOfBirth = input(\"What year were you born? \")\n",
    "currentYear = input(\"What year are we in now? \")"
   ]
  },
  {
   "cell_type": "code",
   "execution_count": 6,
   "metadata": {},
   "outputs": [
    {
     "data": {
      "text/plain": [
       "'1950'"
      ]
     },
     "execution_count": 6,
     "metadata": {},
     "output_type": "execute_result"
    }
   ],
   "source": [
    "yearOfBirth"
   ]
  },
  {
   "cell_type": "code",
   "execution_count": 7,
   "metadata": {},
   "outputs": [
    {
     "data": {
      "text/plain": [
       "str"
      ]
     },
     "execution_count": 7,
     "metadata": {},
     "output_type": "execute_result"
    }
   ],
   "source": [
    "type(yearOfBirth)"
   ]
  },
  {
   "cell_type": "code",
   "execution_count": 9,
   "metadata": {},
   "outputs": [],
   "source": [
    "age = int(currentYear) - int(yearOfBirth)"
   ]
  },
  {
   "cell_type": "code",
   "execution_count": 10,
   "metadata": {},
   "outputs": [
    {
     "name": "stdout",
     "output_type": "stream",
     "text": [
      "70\n"
     ]
    }
   ],
   "source": [
    "print(age)"
   ]
  },
  {
   "cell_type": "code",
   "execution_count": 11,
   "metadata": {},
   "outputs": [
    {
     "name": "stdout",
     "output_type": "stream",
     "text": [
      "What year were you born? 2003\n",
      "What year are we in now? 2050\n",
      "Alison is 47 years old.\n"
     ]
    }
   ],
   "source": [
    "yearOfBirth = input(\"What year were you born? \")\n",
    "currentYear = input(\"What year are we in now? \")\n",
    "age = int(currentYear) - int(yearOfBirth)\n",
    "print(name, \"is\", age, \"years old.\")"
   ]
  },
  {
   "cell_type": "code",
   "execution_count": 12,
   "metadata": {},
   "outputs": [
    {
     "name": "stdout",
     "output_type": "stream",
     "text": [
      "What year were you born? 2000\n",
      "What year are we in now? 2020\n",
      "Alison is 20 years old.\n"
     ]
    }
   ],
   "source": [
    "yearOfBirth = int(input(\"What year were you born? \"))\n",
    "currentYear = int(input(\"What year are we in now? \"))\n",
    "age = currentYear - yearOfBirth\n",
    "print(name, \"is\", age, \"years old.\")"
   ]
  },
  {
   "cell_type": "markdown",
   "metadata": {},
   "source": [
    "### Standard Output"
   ]
  },
  {
   "cell_type": "markdown",
   "metadata": {},
   "source": [
    "We have already seen print statments where we print to the screen. Now lets learn more about print statement."
   ]
  },
  {
   "cell_type": "code",
   "execution_count": 13,
   "metadata": {},
   "outputs": [
    {
     "name": "stdout",
     "output_type": "stream",
     "text": [
      "Function:\n",
      "Named set of statements!\n"
     ]
    }
   ],
   "source": [
    "print(\"Function:\")\n",
    "print(\"Named set of statements!\")"
   ]
  },
  {
   "cell_type": "code",
   "execution_count": 14,
   "metadata": {},
   "outputs": [
    {
     "name": "stdout",
     "output_type": "stream",
     "text": [
      "Function: Named set of statements!\n"
     ]
    }
   ],
   "source": [
    "print (\"Function:\", \"Named set of statements!\")"
   ]
  },
  {
   "cell_type": "code",
   "execution_count": 15,
   "metadata": {},
   "outputs": [
    {
     "name": "stdout",
     "output_type": "stream",
     "text": [
      "Function: Named set of statements!\n"
     ]
    }
   ],
   "source": [
    "print(\"Function:\", end = \" \")\n",
    "print(\"Named set of statements!\")"
   ]
  },
  {
   "cell_type": "markdown",
   "metadata": {},
   "source": [
    "This is because in the first print() statement we specify the space to be the final string to be printed instead of newline character. Now let's explore more."
   ]
  },
  {
   "cell_type": "code",
   "execution_count": 16,
   "metadata": {},
   "outputs": [],
   "source": [
    "?print"
   ]
  },
  {
   "cell_type": "markdown",
   "metadata": {},
   "source": [
    "As we have seen comma adds a space between items.  You can choose the separators between items to be anything other than space. "
   ]
  },
  {
   "cell_type": "code",
   "execution_count": 17,
   "metadata": {},
   "outputs": [
    {
     "name": "stdout",
     "output_type": "stream",
     "text": [
      "Function:   Named set of statements!\n"
     ]
    }
   ],
   "source": [
    "print (\"Function:\", \"Named set of statements!\", sep=\"   \")"
   ]
  },
  {
   "cell_type": "code",
   "execution_count": 18,
   "metadata": {},
   "outputs": [
    {
     "name": "stdout",
     "output_type": "stream",
     "text": [
      "Function:__Named set of statements!__!!!\n"
     ]
    }
   ],
   "source": [
    "print (\"Function:\", \"Named set of statements!\", \"!!!\", sep = \"__\")"
   ]
  },
  {
   "cell_type": "markdown",
   "metadata": {},
   "source": [
    "You can remove the space added by comma like below:"
   ]
  },
  {
   "cell_type": "code",
   "execution_count": 19,
   "metadata": {},
   "outputs": [
    {
     "name": "stdout",
     "output_type": "stream",
     "text": [
      "5 / 9 / 2009\n",
      "5/9/2009\n"
     ]
    }
   ],
   "source": [
    "print(\"5\" , \"/\" , \"9\", \"/\", \"2009\")\n",
    "print(\"5\" , \"/\" , \"9\", \"/\", \"2009\", sep = \"\")"
   ]
  },
  {
   "cell_type": "markdown",
   "metadata": {},
   "source": [
    "You may use both end and sep arguments together."
   ]
  },
  {
   "cell_type": "code",
   "execution_count": 20,
   "metadata": {
    "scrolled": false
   },
   "outputs": [
    {
     "name": "stdout",
     "output_type": "stream",
     "text": [
      "Please enter your age Alison :\n",
      "25\n"
     ]
    }
   ],
   "source": [
    "print(\"Please enter your age\", name , \":\")\n",
    "age = input()"
   ]
  },
  {
   "cell_type": "code",
   "execution_count": 21,
   "metadata": {},
   "outputs": [
    {
     "name": "stdout",
     "output_type": "stream",
     "text": [
      "Please enter your age Alison: 25\n"
     ]
    }
   ],
   "source": [
    "print(\"Please enter your age \", name , \":\", sep = \"\", end = \" \")\n",
    "age = input()"
   ]
  },
  {
   "cell_type": "code",
   "execution_count": 22,
   "metadata": {},
   "outputs": [
    {
     "name": "stdout",
     "output_type": "stream",
     "text": [
      "Please enter your age Alison: 25\n"
     ]
    }
   ],
   "source": [
    "# This is an example of using string concatenation\n",
    "age = input(\"Please enter your age \"+ name + \": \")"
   ]
  },
  {
   "cell_type": "markdown",
   "metadata": {},
   "source": [
    "### Now test your understanding by attempting the following practice exercises:"
   ]
  },
  {
   "cell_type": "markdown",
   "metadata": {},
   "source": [
    "1. Get a positive number from the user and convert it into float. Then divide it by 5 in the print function.\n"
   ]
  },
  {
   "cell_type": "code",
   "execution_count": 23,
   "metadata": {},
   "outputs": [
    {
     "name": "stdout",
     "output_type": "stream",
     "text": [
      "Please enter a positive number: 45\n",
      "9.0\n"
     ]
    }
   ],
   "source": [
    "user_input = float(input(\"Please enter a positive number: \"))\n",
    "print(user_input / 5)"
   ]
  },
  {
   "cell_type": "markdown",
   "metadata": {},
   "source": [
    "2. Use two print functions to print \"Daily\" and \"Practice\" in the same line."
   ]
  },
  {
   "cell_type": "code",
   "execution_count": 25,
   "metadata": {},
   "outputs": [
    {
     "name": "stdout",
     "output_type": "stream",
     "text": [
      "Daily Practice\n"
     ]
    }
   ],
   "source": [
    "print(\"Daily\", end = \" \")\n",
    "print(\"Practice\")"
   ]
  },
  {
   "cell_type": "code",
   "execution_count": null,
   "metadata": {},
   "outputs": [],
   "source": []
  }
 ],
 "metadata": {
  "kernelspec": {
   "display_name": "Python 3",
   "language": "python",
   "name": "python3"
  },
  "language_info": {
   "codemirror_mode": {
    "name": "ipython",
    "version": 3
   },
   "file_extension": ".py",
   "mimetype": "text/x-python",
   "name": "python",
   "nbconvert_exporter": "python",
   "pygments_lexer": "ipython3",
   "version": "3.7.3"
  }
 },
 "nbformat": 4,
 "nbformat_minor": 2
}
